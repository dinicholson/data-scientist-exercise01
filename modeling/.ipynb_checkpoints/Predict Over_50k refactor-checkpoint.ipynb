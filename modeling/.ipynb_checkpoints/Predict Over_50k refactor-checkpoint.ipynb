{
 "cells": [
  {
   "cell_type": "code",
   "execution_count": 49,
   "metadata": {
    "collapsed": false
   },
   "outputs": [],
   "source": [
    "import numpy as np\n",
    "import pandas as pd\n",
    "from sklearn.linear_model import LogisticRegression\n",
    "from sklearn import metrics\n",
    "%matplotlib inline\n",
    "from ggplot import *\n",
    "import matplotlib.pyplot as plt"
   ]
  },
  {
   "cell_type": "code",
   "execution_count": null,
   "metadata": {
    "collapsed": true
   },
   "outputs": [],
   "source": [
    "#read in train/test/valid\n",
    "train = pd.read_csv('..\\\\partition\\\\train.csv')\n",
    "valid = pd.read_csv('..\\\\partition\\\\valid.csv')\n",
    "test = pd.read_csv('..\\\\partition\\\\test.csv')"
   ]
  },
  {
   "cell_type": "code",
   "execution_count": 3,
   "metadata": {
    "collapsed": false
   },
   "outputs": [],
   "source": [
    "#Split x and y for all sets\n",
    "y_train = train.pop('over_50k')\n",
    "y_valid = valid.pop('over_50k')\n",
    "y_test = test.pop('over_50k')\n",
    "x_train = train\n",
    "x_valid = valid\n",
    "x_test = test "
   ]
  },
  {
   "cell_type": "code",
   "execution_count": 4,
   "metadata": {
    "collapsed": false
   },
   "outputs": [
    {
     "data": {
      "text/html": [
       "<div>\n",
       "<table border=\"1\" class=\"dataframe\">\n",
       "  <thead>\n",
       "    <tr style=\"text-align: right;\">\n",
       "      <th></th>\n",
       "      <th>id</th>\n",
       "      <th>age</th>\n",
       "      <th>workclass_id</th>\n",
       "      <th>education_level_id</th>\n",
       "      <th>education_num</th>\n",
       "      <th>marital_status_id</th>\n",
       "      <th>occupation_id</th>\n",
       "      <th>race_id</th>\n",
       "      <th>sex_id</th>\n",
       "      <th>capital_gain</th>\n",
       "      <th>capital_loss</th>\n",
       "      <th>hours_week</th>\n",
       "      <th>country_id</th>\n",
       "      <th>workclass</th>\n",
       "      <th>education_level</th>\n",
       "      <th>marital_status</th>\n",
       "      <th>occupation</th>\n",
       "      <th>race</th>\n",
       "      <th>sex</th>\n",
       "      <th>country</th>\n",
       "    </tr>\n",
       "  </thead>\n",
       "  <tbody>\n",
       "    <tr>\n",
       "      <th>0</th>\n",
       "      <td>11289</td>\n",
       "      <td>22</td>\n",
       "      <td>5</td>\n",
       "      <td>16</td>\n",
       "      <td>10</td>\n",
       "      <td>5</td>\n",
       "      <td>2</td>\n",
       "      <td>3</td>\n",
       "      <td>2</td>\n",
       "      <td>0</td>\n",
       "      <td>0</td>\n",
       "      <td>30</td>\n",
       "      <td>7</td>\n",
       "      <td>Private</td>\n",
       "      <td>Some-college</td>\n",
       "      <td>Never-married</td>\n",
       "      <td>Adm-clerical</td>\n",
       "      <td>Black</td>\n",
       "      <td>Male</td>\n",
       "      <td>Dominican-Republic</td>\n",
       "    </tr>\n",
       "    <tr>\n",
       "      <th>1</th>\n",
       "      <td>34529</td>\n",
       "      <td>43</td>\n",
       "      <td>8</td>\n",
       "      <td>11</td>\n",
       "      <td>16</td>\n",
       "      <td>3</td>\n",
       "      <td>11</td>\n",
       "      <td>5</td>\n",
       "      <td>1</td>\n",
       "      <td>0</td>\n",
       "      <td>0</td>\n",
       "      <td>40</td>\n",
       "      <td>40</td>\n",
       "      <td>State-gov</td>\n",
       "      <td>Doctorate</td>\n",
       "      <td>Married-civ-spouse</td>\n",
       "      <td>Prof-specialty</td>\n",
       "      <td>White</td>\n",
       "      <td>Female</td>\n",
       "      <td>United-States</td>\n",
       "    </tr>\n",
       "    <tr>\n",
       "      <th>2</th>\n",
       "      <td>28681</td>\n",
       "      <td>45</td>\n",
       "      <td>5</td>\n",
       "      <td>10</td>\n",
       "      <td>13</td>\n",
       "      <td>3</td>\n",
       "      <td>5</td>\n",
       "      <td>5</td>\n",
       "      <td>1</td>\n",
       "      <td>0</td>\n",
       "      <td>0</td>\n",
       "      <td>40</td>\n",
       "      <td>40</td>\n",
       "      <td>Private</td>\n",
       "      <td>Bachelors</td>\n",
       "      <td>Married-civ-spouse</td>\n",
       "      <td>Exec-managerial</td>\n",
       "      <td>White</td>\n",
       "      <td>Female</td>\n",
       "      <td>United-States</td>\n",
       "    </tr>\n",
       "    <tr>\n",
       "      <th>3</th>\n",
       "      <td>21496</td>\n",
       "      <td>41</td>\n",
       "      <td>5</td>\n",
       "      <td>12</td>\n",
       "      <td>9</td>\n",
       "      <td>3</td>\n",
       "      <td>4</td>\n",
       "      <td>5</td>\n",
       "      <td>2</td>\n",
       "      <td>0</td>\n",
       "      <td>0</td>\n",
       "      <td>45</td>\n",
       "      <td>40</td>\n",
       "      <td>Private</td>\n",
       "      <td>HS-grad</td>\n",
       "      <td>Married-civ-spouse</td>\n",
       "      <td>Craft-repair</td>\n",
       "      <td>White</td>\n",
       "      <td>Male</td>\n",
       "      <td>United-States</td>\n",
       "    </tr>\n",
       "    <tr>\n",
       "      <th>4</th>\n",
       "      <td>27291</td>\n",
       "      <td>56</td>\n",
       "      <td>5</td>\n",
       "      <td>12</td>\n",
       "      <td>9</td>\n",
       "      <td>3</td>\n",
       "      <td>5</td>\n",
       "      <td>5</td>\n",
       "      <td>2</td>\n",
       "      <td>0</td>\n",
       "      <td>0</td>\n",
       "      <td>40</td>\n",
       "      <td>40</td>\n",
       "      <td>Private</td>\n",
       "      <td>HS-grad</td>\n",
       "      <td>Married-civ-spouse</td>\n",
       "      <td>Exec-managerial</td>\n",
       "      <td>White</td>\n",
       "      <td>Male</td>\n",
       "      <td>United-States</td>\n",
       "    </tr>\n",
       "  </tbody>\n",
       "</table>\n",
       "</div>"
      ],
      "text/plain": [
       "      id  age  workclass_id  education_level_id  education_num  \\\n",
       "0  11289   22             5                  16             10   \n",
       "1  34529   43             8                  11             16   \n",
       "2  28681   45             5                  10             13   \n",
       "3  21496   41             5                  12              9   \n",
       "4  27291   56             5                  12              9   \n",
       "\n",
       "   marital_status_id  occupation_id  race_id  sex_id  capital_gain  \\\n",
       "0                  5              2        3       2             0   \n",
       "1                  3             11        5       1             0   \n",
       "2                  3              5        5       1             0   \n",
       "3                  3              4        5       2             0   \n",
       "4                  3              5        5       2             0   \n",
       "\n",
       "   capital_loss  hours_week  country_id  workclass education_level  \\\n",
       "0             0          30           7    Private    Some-college   \n",
       "1             0          40          40  State-gov       Doctorate   \n",
       "2             0          40          40    Private       Bachelors   \n",
       "3             0          45          40    Private         HS-grad   \n",
       "4             0          40          40    Private         HS-grad   \n",
       "\n",
       "       marital_status       occupation   race     sex             country  \n",
       "0       Never-married     Adm-clerical  Black    Male  Dominican-Republic  \n",
       "1  Married-civ-spouse   Prof-specialty  White  Female       United-States  \n",
       "2  Married-civ-spouse  Exec-managerial  White  Female       United-States  \n",
       "3  Married-civ-spouse     Craft-repair  White    Male       United-States  \n",
       "4  Married-civ-spouse  Exec-managerial  White    Male       United-States  "
      ]
     },
     "execution_count": 4,
     "metadata": {},
     "output_type": "execute_result"
    }
   ],
   "source": [
    "x_train.head()"
   ]
  },
  {
   "cell_type": "code",
   "execution_count": 5,
   "metadata": {
    "collapsed": false
   },
   "outputs": [],
   "source": [
    "#first stab with just numeric variables\n",
    "x_num_train = x_train[[\"age\",\"education_num\",\"capital_gain\",\"capital_loss\", \"hours_week\",]]"
   ]
  },
  {
   "cell_type": "code",
   "execution_count": 6,
   "metadata": {
    "collapsed": false
   },
   "outputs": [
    {
     "data": {
      "text/html": [
       "<div>\n",
       "<table border=\"1\" class=\"dataframe\">\n",
       "  <thead>\n",
       "    <tr style=\"text-align: right;\">\n",
       "      <th></th>\n",
       "      <th>age</th>\n",
       "      <th>education_num</th>\n",
       "      <th>capital_gain</th>\n",
       "      <th>capital_loss</th>\n",
       "      <th>hours_week</th>\n",
       "    </tr>\n",
       "  </thead>\n",
       "  <tbody>\n",
       "    <tr>\n",
       "      <th>0</th>\n",
       "      <td>22</td>\n",
       "      <td>10</td>\n",
       "      <td>0</td>\n",
       "      <td>0</td>\n",
       "      <td>30</td>\n",
       "    </tr>\n",
       "    <tr>\n",
       "      <th>1</th>\n",
       "      <td>43</td>\n",
       "      <td>16</td>\n",
       "      <td>0</td>\n",
       "      <td>0</td>\n",
       "      <td>40</td>\n",
       "    </tr>\n",
       "    <tr>\n",
       "      <th>2</th>\n",
       "      <td>45</td>\n",
       "      <td>13</td>\n",
       "      <td>0</td>\n",
       "      <td>0</td>\n",
       "      <td>40</td>\n",
       "    </tr>\n",
       "    <tr>\n",
       "      <th>3</th>\n",
       "      <td>41</td>\n",
       "      <td>9</td>\n",
       "      <td>0</td>\n",
       "      <td>0</td>\n",
       "      <td>45</td>\n",
       "    </tr>\n",
       "    <tr>\n",
       "      <th>4</th>\n",
       "      <td>56</td>\n",
       "      <td>9</td>\n",
       "      <td>0</td>\n",
       "      <td>0</td>\n",
       "      <td>40</td>\n",
       "    </tr>\n",
       "  </tbody>\n",
       "</table>\n",
       "</div>"
      ],
      "text/plain": [
       "   age  education_num  capital_gain  capital_loss  hours_week\n",
       "0   22             10             0             0          30\n",
       "1   43             16             0             0          40\n",
       "2   45             13             0             0          40\n",
       "3   41              9             0             0          45\n",
       "4   56              9             0             0          40"
      ]
     },
     "execution_count": 6,
     "metadata": {},
     "output_type": "execute_result"
    }
   ],
   "source": [
    "x_num_train.head()"
   ]
  },
  {
   "cell_type": "code",
   "execution_count": 7,
   "metadata": {
    "collapsed": false
   },
   "outputs": [
    {
     "name": "stdout",
     "output_type": "stream",
     "text": [
      "[[  4.12735661e-02   3.24655630e-01   3.24227858e-04   6.88100436e-04\n",
      "    3.97932204e-02]]\n"
     ]
    },
    {
     "data": {
      "text/plain": [
       "['age', 'education_num', 'capital_gain', 'capital_loss', 'hours_week']"
      ]
     },
     "execution_count": 7,
     "metadata": {},
     "output_type": "execute_result"
    }
   ],
   "source": [
    "#Run a logistic regression on the numeric vars\n",
    "logreg1 = LogisticRegression(C=1e20,tol=.00000001,max_iter=50)\n",
    "#Other solvers too (e.g. sag, newton-cg, lbfgs, liblinear)\n",
    "\n",
    "#Fit log. model\n",
    "logreg1.fit(x_num_train , y_train)\n",
    "\n",
    "#looking at the coefficients\n",
    "print logreg1.coef_\n",
    "list(x_num_train)"
   ]
  },
  {
   "cell_type": "code",
   "execution_count": 55,
   "metadata": {
    "collapsed": false
   },
   "outputs": [
    {
     "name": "stdout",
     "output_type": "stream",
     "text": [
      "Numeric: age, education_num, capital_gain, capital_loss, hours_week\n",
      "Categorical: none\n",
      "Intercept:  [-8.24093988]\n"
     ]
    },
    {
     "data": {
      "text/html": [
       "<div>\n",
       "<table border=\"1\" class=\"dataframe\">\n",
       "  <thead>\n",
       "    <tr style=\"text-align: right;\">\n",
       "      <th></th>\n",
       "      <th>coeff</th>\n",
       "    </tr>\n",
       "  </thead>\n",
       "  <tbody>\n",
       "    <tr>\n",
       "      <th>age</th>\n",
       "      <td>0.041274</td>\n",
       "    </tr>\n",
       "    <tr>\n",
       "      <th>capital_gain</th>\n",
       "      <td>0.000324</td>\n",
       "    </tr>\n",
       "    <tr>\n",
       "      <th>capital_loss</th>\n",
       "      <td>0.000688</td>\n",
       "    </tr>\n",
       "    <tr>\n",
       "      <th>education_num</th>\n",
       "      <td>0.324656</td>\n",
       "    </tr>\n",
       "    <tr>\n",
       "      <th>hours_week</th>\n",
       "      <td>0.039793</td>\n",
       "    </tr>\n",
       "  </tbody>\n",
       "</table>\n",
       "</div>"
      ],
      "text/plain": [
       "                  coeff\n",
       "age            0.041274\n",
       "capital_gain   0.000324\n",
       "capital_loss   0.000688\n",
       "education_num  0.324656\n",
       "hours_week     0.039793"
      ]
     },
     "execution_count": 55,
     "metadata": {},
     "output_type": "execute_result"
    }
   ],
   "source": [
    "# prettifying the coefficients table\n",
    "coeff =  logreg1.coef_\n",
    "pred_vars = list(x_num_train)\n",
    "coeff_dict = dict(zip(pred_vars, *coeff))\n",
    "print 'Numeric: age, education_num, capital_gain, capital_loss, hours_week'\n",
    "print 'Categorical: none'\n",
    "print 'Intercept: ', logreg1.intercept_   \n",
    "pd.DataFrame(pd.Series(coeff_dict), columns=['coeff'])"
   ]
  },
  {
   "cell_type": "code",
   "execution_count": 9,
   "metadata": {
    "collapsed": false
   },
   "outputs": [
    {
     "name": "stdout",
     "output_type": "stream",
     "text": [
      "AUC: 0.830691071172\n"
     ]
    }
   ],
   "source": [
    "#Generate Probabilities for over_50k\n",
    "probs1 = logreg1.predict_proba(x_num_train)\n",
    "#Grab only over_50k\n",
    "prob1 = probs1[:,1]\n",
    "#Calculate and Print AUC\n",
    "print \"AUC:\", metrics.roc_auc_score(y_train, prob1)"
   ]
  },
  {
   "cell_type": "code",
   "execution_count": 10,
   "metadata": {
    "collapsed": false
   },
   "outputs": [],
   "source": [
    "# creating and joining dummy vars for marital_status and occupation\n",
    "m_dummies = pd.get_dummies(x_train['marital_status'])\n",
    "o_dummies = pd.get_dummies(x_train['occupation'])\n",
    "x_train = x_train.join([m_dummies, o_dummies])\n",
    "\n",
    "\n",
    "#census = census.join(o_dummies)\n",
    "#pd.concat([df_a, df_b], axis=1)"
   ]
  },
  {
   "cell_type": "code",
   "execution_count": 12,
   "metadata": {
    "collapsed": true
   },
   "outputs": [],
   "source": [
    "# create data frame with continuous and dummy vars for occupation and marital status\n",
    "x_train_l2 = x_train[['age','education_num','capital_gain','capital_loss', 'hours_week','Divorced','Married-AF-spouse',\n",
    "            'Married-civ-spouse','Married-spouse-absent','Never-married','Separated','Widowed','?','Adm-clerical',\n",
    "            'Armed-Forces','Craft-repair','Exec-managerial','Farming-fishing','Handlers-cleaners','Machine-op-inspct',\n",
    "            'Other-service','Priv-house-serv','Prof-specialty','Protective-serv','Sales','Tech-support','Transport-moving']]"
   ]
  },
  {
   "cell_type": "code",
   "execution_count": 13,
   "metadata": {
    "collapsed": false
   },
   "outputs": [
    {
     "data": {
      "text/html": [
       "<div>\n",
       "<table border=\"1\" class=\"dataframe\">\n",
       "  <thead>\n",
       "    <tr style=\"text-align: right;\">\n",
       "      <th></th>\n",
       "      <th>age</th>\n",
       "      <th>education_num</th>\n",
       "      <th>capital_gain</th>\n",
       "      <th>capital_loss</th>\n",
       "      <th>hours_week</th>\n",
       "      <th>Divorced</th>\n",
       "      <th>Married-AF-spouse</th>\n",
       "      <th>Married-civ-spouse</th>\n",
       "      <th>Married-spouse-absent</th>\n",
       "      <th>Never-married</th>\n",
       "      <th>...</th>\n",
       "      <th>Farming-fishing</th>\n",
       "      <th>Handlers-cleaners</th>\n",
       "      <th>Machine-op-inspct</th>\n",
       "      <th>Other-service</th>\n",
       "      <th>Priv-house-serv</th>\n",
       "      <th>Prof-specialty</th>\n",
       "      <th>Protective-serv</th>\n",
       "      <th>Sales</th>\n",
       "      <th>Tech-support</th>\n",
       "      <th>Transport-moving</th>\n",
       "    </tr>\n",
       "  </thead>\n",
       "  <tbody>\n",
       "    <tr>\n",
       "      <th>0</th>\n",
       "      <td>22</td>\n",
       "      <td>10</td>\n",
       "      <td>0</td>\n",
       "      <td>0</td>\n",
       "      <td>30</td>\n",
       "      <td>0.0</td>\n",
       "      <td>0.0</td>\n",
       "      <td>0.0</td>\n",
       "      <td>0.0</td>\n",
       "      <td>1.0</td>\n",
       "      <td>...</td>\n",
       "      <td>0.0</td>\n",
       "      <td>0.0</td>\n",
       "      <td>0.0</td>\n",
       "      <td>0.0</td>\n",
       "      <td>0.0</td>\n",
       "      <td>0.0</td>\n",
       "      <td>0.0</td>\n",
       "      <td>0.0</td>\n",
       "      <td>0.0</td>\n",
       "      <td>0.0</td>\n",
       "    </tr>\n",
       "    <tr>\n",
       "      <th>1</th>\n",
       "      <td>43</td>\n",
       "      <td>16</td>\n",
       "      <td>0</td>\n",
       "      <td>0</td>\n",
       "      <td>40</td>\n",
       "      <td>0.0</td>\n",
       "      <td>0.0</td>\n",
       "      <td>1.0</td>\n",
       "      <td>0.0</td>\n",
       "      <td>0.0</td>\n",
       "      <td>...</td>\n",
       "      <td>0.0</td>\n",
       "      <td>0.0</td>\n",
       "      <td>0.0</td>\n",
       "      <td>0.0</td>\n",
       "      <td>0.0</td>\n",
       "      <td>1.0</td>\n",
       "      <td>0.0</td>\n",
       "      <td>0.0</td>\n",
       "      <td>0.0</td>\n",
       "      <td>0.0</td>\n",
       "    </tr>\n",
       "    <tr>\n",
       "      <th>2</th>\n",
       "      <td>45</td>\n",
       "      <td>13</td>\n",
       "      <td>0</td>\n",
       "      <td>0</td>\n",
       "      <td>40</td>\n",
       "      <td>0.0</td>\n",
       "      <td>0.0</td>\n",
       "      <td>1.0</td>\n",
       "      <td>0.0</td>\n",
       "      <td>0.0</td>\n",
       "      <td>...</td>\n",
       "      <td>0.0</td>\n",
       "      <td>0.0</td>\n",
       "      <td>0.0</td>\n",
       "      <td>0.0</td>\n",
       "      <td>0.0</td>\n",
       "      <td>0.0</td>\n",
       "      <td>0.0</td>\n",
       "      <td>0.0</td>\n",
       "      <td>0.0</td>\n",
       "      <td>0.0</td>\n",
       "    </tr>\n",
       "    <tr>\n",
       "      <th>3</th>\n",
       "      <td>41</td>\n",
       "      <td>9</td>\n",
       "      <td>0</td>\n",
       "      <td>0</td>\n",
       "      <td>45</td>\n",
       "      <td>0.0</td>\n",
       "      <td>0.0</td>\n",
       "      <td>1.0</td>\n",
       "      <td>0.0</td>\n",
       "      <td>0.0</td>\n",
       "      <td>...</td>\n",
       "      <td>0.0</td>\n",
       "      <td>0.0</td>\n",
       "      <td>0.0</td>\n",
       "      <td>0.0</td>\n",
       "      <td>0.0</td>\n",
       "      <td>0.0</td>\n",
       "      <td>0.0</td>\n",
       "      <td>0.0</td>\n",
       "      <td>0.0</td>\n",
       "      <td>0.0</td>\n",
       "    </tr>\n",
       "    <tr>\n",
       "      <th>4</th>\n",
       "      <td>56</td>\n",
       "      <td>9</td>\n",
       "      <td>0</td>\n",
       "      <td>0</td>\n",
       "      <td>40</td>\n",
       "      <td>0.0</td>\n",
       "      <td>0.0</td>\n",
       "      <td>1.0</td>\n",
       "      <td>0.0</td>\n",
       "      <td>0.0</td>\n",
       "      <td>...</td>\n",
       "      <td>0.0</td>\n",
       "      <td>0.0</td>\n",
       "      <td>0.0</td>\n",
       "      <td>0.0</td>\n",
       "      <td>0.0</td>\n",
       "      <td>0.0</td>\n",
       "      <td>0.0</td>\n",
       "      <td>0.0</td>\n",
       "      <td>0.0</td>\n",
       "      <td>0.0</td>\n",
       "    </tr>\n",
       "  </tbody>\n",
       "</table>\n",
       "<p>5 rows × 27 columns</p>\n",
       "</div>"
      ],
      "text/plain": [
       "   age  education_num  capital_gain  capital_loss  hours_week  Divorced  \\\n",
       "0   22             10             0             0          30       0.0   \n",
       "1   43             16             0             0          40       0.0   \n",
       "2   45             13             0             0          40       0.0   \n",
       "3   41              9             0             0          45       0.0   \n",
       "4   56              9             0             0          40       0.0   \n",
       "\n",
       "   Married-AF-spouse  Married-civ-spouse  Married-spouse-absent  \\\n",
       "0                0.0                 0.0                    0.0   \n",
       "1                0.0                 1.0                    0.0   \n",
       "2                0.0                 1.0                    0.0   \n",
       "3                0.0                 1.0                    0.0   \n",
       "4                0.0                 1.0                    0.0   \n",
       "\n",
       "   Never-married        ...         Farming-fishing  Handlers-cleaners  \\\n",
       "0            1.0        ...                     0.0                0.0   \n",
       "1            0.0        ...                     0.0                0.0   \n",
       "2            0.0        ...                     0.0                0.0   \n",
       "3            0.0        ...                     0.0                0.0   \n",
       "4            0.0        ...                     0.0                0.0   \n",
       "\n",
       "   Machine-op-inspct  Other-service  Priv-house-serv  Prof-specialty  \\\n",
       "0                0.0            0.0              0.0             0.0   \n",
       "1                0.0            0.0              0.0             1.0   \n",
       "2                0.0            0.0              0.0             0.0   \n",
       "3                0.0            0.0              0.0             0.0   \n",
       "4                0.0            0.0              0.0             0.0   \n",
       "\n",
       "   Protective-serv  Sales  Tech-support  Transport-moving  \n",
       "0              0.0    0.0           0.0               0.0  \n",
       "1              0.0    0.0           0.0               0.0  \n",
       "2              0.0    0.0           0.0               0.0  \n",
       "3              0.0    0.0           0.0               0.0  \n",
       "4              0.0    0.0           0.0               0.0  \n",
       "\n",
       "[5 rows x 27 columns]"
      ]
     },
     "execution_count": 13,
     "metadata": {},
     "output_type": "execute_result"
    }
   ],
   "source": [
    "x_train_l2.head()"
   ]
  },
  {
   "cell_type": "code",
   "execution_count": 14,
   "metadata": {
    "collapsed": false
   },
   "outputs": [
    {
     "data": {
      "text/plain": [
       "LogisticRegression(C=1e+20, class_weight=None, dual=False, fit_intercept=True,\n",
       "          intercept_scaling=1, max_iter=50, multi_class='ovr', n_jobs=1,\n",
       "          penalty='l2', random_state=None, solver='liblinear', tol=1e-08,\n",
       "          verbose=0, warm_start=False)"
      ]
     },
     "execution_count": 14,
     "metadata": {},
     "output_type": "execute_result"
    }
   ],
   "source": [
    "#run logistic model\n",
    "logreg2 = LogisticRegression(C=1e20,tol=.00000001,max_iter=50)\n",
    "#Fit logistic model\n",
    "logreg2.fit(x_train_l2 , y_train)"
   ]
  },
  {
   "cell_type": "code",
   "execution_count": 56,
   "metadata": {
    "collapsed": false
   },
   "outputs": [
    {
     "name": "stdout",
     "output_type": "stream",
     "text": [
      "Numeric: age, education_num, capital_gain, capital_loss, hours_week\n",
      "Categorical: martital status, occupation\n",
      "Intercept:  [-6.39334542]\n"
     ]
    },
    {
     "data": {
      "text/html": [
       "<div>\n",
       "<table border=\"1\" class=\"dataframe\">\n",
       "  <thead>\n",
       "    <tr style=\"text-align: right;\">\n",
       "      <th></th>\n",
       "      <th>coeff</th>\n",
       "    </tr>\n",
       "  </thead>\n",
       "  <tbody>\n",
       "    <tr>\n",
       "      <th>?</th>\n",
       "      <td>-0.958709</td>\n",
       "    </tr>\n",
       "    <tr>\n",
       "      <th>Adm-clerical</th>\n",
       "      <td>-0.169958</td>\n",
       "    </tr>\n",
       "    <tr>\n",
       "      <th>Armed-Forces</th>\n",
       "      <td>0.811079</td>\n",
       "    </tr>\n",
       "    <tr>\n",
       "      <th>Craft-repair</th>\n",
       "      <td>-0.180634</td>\n",
       "    </tr>\n",
       "    <tr>\n",
       "      <th>Divorced</th>\n",
       "      <td>-1.561247</td>\n",
       "    </tr>\n",
       "    <tr>\n",
       "      <th>Exec-managerial</th>\n",
       "      <td>0.587197</td>\n",
       "    </tr>\n",
       "    <tr>\n",
       "      <th>Farming-fishing</th>\n",
       "      <td>-1.589435</td>\n",
       "    </tr>\n",
       "    <tr>\n",
       "      <th>Handlers-cleaners</th>\n",
       "      <td>-1.053508</td>\n",
       "    </tr>\n",
       "    <tr>\n",
       "      <th>Machine-op-inspct</th>\n",
       "      <td>-0.495650</td>\n",
       "    </tr>\n",
       "    <tr>\n",
       "      <th>Married-AF-spouse</th>\n",
       "      <td>0.964585</td>\n",
       "    </tr>\n",
       "    <tr>\n",
       "      <th>Married-civ-spouse</th>\n",
       "      <td>0.762384</td>\n",
       "    </tr>\n",
       "    <tr>\n",
       "      <th>Married-spouse-absent</th>\n",
       "      <td>-1.635459</td>\n",
       "    </tr>\n",
       "    <tr>\n",
       "      <th>Never-married</th>\n",
       "      <td>-2.008253</td>\n",
       "    </tr>\n",
       "    <tr>\n",
       "      <th>Other-service</th>\n",
       "      <td>-1.175126</td>\n",
       "    </tr>\n",
       "    <tr>\n",
       "      <th>Priv-house-serv</th>\n",
       "      <td>-2.881491</td>\n",
       "    </tr>\n",
       "    <tr>\n",
       "      <th>Prof-specialty</th>\n",
       "      <td>0.359381</td>\n",
       "    </tr>\n",
       "    <tr>\n",
       "      <th>Protective-serv</th>\n",
       "      <td>0.230559</td>\n",
       "    </tr>\n",
       "    <tr>\n",
       "      <th>Sales</th>\n",
       "      <td>0.094533</td>\n",
       "    </tr>\n",
       "    <tr>\n",
       "      <th>Separated</th>\n",
       "      <td>-1.429699</td>\n",
       "    </tr>\n",
       "    <tr>\n",
       "      <th>Tech-support</th>\n",
       "      <td>0.302187</td>\n",
       "    </tr>\n",
       "    <tr>\n",
       "      <th>Transport-moving</th>\n",
       "      <td>-0.273771</td>\n",
       "    </tr>\n",
       "    <tr>\n",
       "      <th>Widowed</th>\n",
       "      <td>-1.485657</td>\n",
       "    </tr>\n",
       "    <tr>\n",
       "      <th>age</th>\n",
       "      <td>0.023510</td>\n",
       "    </tr>\n",
       "    <tr>\n",
       "      <th>capital_gain</th>\n",
       "      <td>0.000326</td>\n",
       "    </tr>\n",
       "    <tr>\n",
       "      <th>capital_loss</th>\n",
       "      <td>0.000658</td>\n",
       "    </tr>\n",
       "    <tr>\n",
       "      <th>education_num</th>\n",
       "      <td>0.280320</td>\n",
       "    </tr>\n",
       "    <tr>\n",
       "      <th>hours_week</th>\n",
       "      <td>0.029248</td>\n",
       "    </tr>\n",
       "  </tbody>\n",
       "</table>\n",
       "</div>"
      ],
      "text/plain": [
       "                          coeff\n",
       "?                     -0.958709\n",
       "Adm-clerical          -0.169958\n",
       "Armed-Forces           0.811079\n",
       "Craft-repair          -0.180634\n",
       "Divorced              -1.561247\n",
       "Exec-managerial        0.587197\n",
       "Farming-fishing       -1.589435\n",
       "Handlers-cleaners     -1.053508\n",
       "Machine-op-inspct     -0.495650\n",
       "Married-AF-spouse      0.964585\n",
       "Married-civ-spouse     0.762384\n",
       "Married-spouse-absent -1.635459\n",
       "Never-married         -2.008253\n",
       "Other-service         -1.175126\n",
       "Priv-house-serv       -2.881491\n",
       "Prof-specialty         0.359381\n",
       "Protective-serv        0.230559\n",
       "Sales                  0.094533\n",
       "Separated             -1.429699\n",
       "Tech-support           0.302187\n",
       "Transport-moving      -0.273771\n",
       "Widowed               -1.485657\n",
       "age                    0.023510\n",
       "capital_gain           0.000326\n",
       "capital_loss           0.000658\n",
       "education_num          0.280320\n",
       "hours_week             0.029248"
      ]
     },
     "execution_count": 56,
     "metadata": {},
     "output_type": "execute_result"
    }
   ],
   "source": [
    "# prettifying the parameters/coefficients table\n",
    "coeff =  logreg2.coef_\n",
    "pred_vars = list(x_train_l2)\n",
    "coeff_dict = dict(zip(pred_vars, *coeff))\n",
    "print 'Numeric: age, education_num, capital_gain, capital_loss, hours_week'\n",
    "print 'Categorical: martital status, occupation'\n",
    "print 'Intercept: ', logreg2.intercept_  \n",
    "pd.DataFrame(pd.Series(coeff_dict), columns=['coeff'])"
   ]
  },
  {
   "cell_type": "code",
   "execution_count": 16,
   "metadata": {
    "collapsed": false
   },
   "outputs": [
    {
     "name": "stdout",
     "output_type": "stream",
     "text": [
      "AUC: 0.905765785929\n"
     ]
    }
   ],
   "source": [
    "#Generate Probabilities for over_50k\n",
    "probs2 = logreg2.predict_proba(x_train_l2)\n",
    "#Grab only over_50k\n",
    "prob2 = probs2[:,1]\n",
    "#Calculate and Print AUC\n",
    "print \"AUC:\", metrics.roc_auc_score(y_train, prob2)"
   ]
  },
  {
   "cell_type": "code",
   "execution_count": 22,
   "metadata": {
    "collapsed": false
   },
   "outputs": [
    {
     "name": "stdout",
     "output_type": "stream",
     "text": [
      "AUC: 0.897798513921\n"
     ]
    }
   ],
   "source": [
    "#VALIDATION\n",
    "\n",
    "# creating and joining dummy vars for marital_status and occupation\n",
    "m_dummies = pd.get_dummies(x_valid['marital_status'])\n",
    "o_dummies = pd.get_dummies(x_valid['occupation'])\n",
    "x_valid = x_valid.join([m_dummies, o_dummies])\n",
    "\n",
    "# create data frame with continuous and dummy vars for occupation and marital status for validation set\n",
    "x_valid_l2 = x_valid[['age','education_num','capital_gain','capital_loss', 'hours_week','Divorced','Married-AF-spouse',\n",
    "            'Married-civ-spouse','Married-spouse-absent','Never-married','Separated','Widowed','?','Adm-clerical',\n",
    "            'Armed-Forces','Craft-repair','Exec-managerial','Farming-fishing','Handlers-cleaners','Machine-op-inspct',\n",
    "            'Other-service','Priv-house-serv','Prof-specialty','Protective-serv','Sales','Tech-support','Transport-moving']]\n",
    "\n",
    "#run logistic model on validaton\n",
    "logreg2_valid = LogisticRegression(C=1e20,tol=.00000001,max_iter=50)\n",
    "#Fit logistic model\n",
    "logreg2_valid.fit(x_valid_l2 , y_valid)\n",
    "\n",
    "# prettifying the parameters/coefficients table\n",
    "coeff =  logreg2.coef_\n",
    "pred_vars = list(x_train_l2)\n",
    "coeff_dict = dict(zip(pred_vars, *coeff))\n",
    "print 'Numeric: age, education_num, capital_gain, capital_loss, hours_week'\n",
    "print 'Categorical: martital status, occupation'\n",
    "pd.DataFrame(pd.Series(coeff_dict), columns=['coeff'])\n",
    "\n",
    "#Generate Probabilities for over_50k\n",
    "probs2_valid = logreg2.predict_proba(x_valid_l2)\n",
    "#Grab only over_50k\n",
    "prob2_valid = probs2_valid[:,1]\n",
    "\n",
    "\n"
   ]
  },
  {
   "cell_type": "code",
   "execution_count": 40,
   "metadata": {
    "collapsed": false
   },
   "outputs": [
    {
     "name": "stdout",
     "output_type": "stream",
     "text": [
      "AUC: 0.897798513921\n"
     ]
    },
    {
     "data": {
      "image/png": "[encoded data removed]",
      "text/plain": [
       "<matplotlib.figure.Figure at 0x15452a90>"
      ]
     },
     "metadata": {},
     "output_type": "display_data"
    },
    {
     "data": {
      "text/plain": [
       "<ggplot: (21839318)>"
      ]
     },
     "execution_count": 40,
     "metadata": {},
     "output_type": "execute_result"
    }
   ],
   "source": [
    "#Roc curves and AUC\n",
    "print \"AUC:\", metrics.roc_auc_score(y_valid, prob2_valid)\n",
    "fpr, tpr, _ = metrics.roc_curve(y_valid, prob2_valid)\n",
    "df = pd.DataFrame(dict(fpr=fpr, tpr=tpr))\n",
    "ggplot(df, aes(x='fpr', y='tpr')) +\\\n",
    "    geom_line() +\\\n",
    "    geom_abline(linetype='dashed')"
   ]
  },
  {
   "cell_type": "code",
   "execution_count": 57,
   "metadata": {
    "collapsed": false
   },
   "outputs": [
    {
     "data": {
      "image/png": "[encoded data removed]",
      "text/plain": [
       "<matplotlib.figure.Figure at 0x175ae0b8>"
      ]
     },
     "metadata": {},
     "output_type": "display_data"
    }
   ],
   "source": [
    "plt.figure(figsize=(12,9),dpi=600)\n",
    "fpr, tpr, thresholds = roc_curve(y_valid, prob2_valid)\n",
    "auc1 = auc(fpr,tpr)\n",
    "\n",
    "plt.plot(fpr, tpr,label=\"AUC Valid:{0}\".format(auc1),color='red', linewidth=2)\n",
    "\n",
    "fpr, tpr, thresholds = roc_curve(y_train, prob2)\n",
    "auc1 = auc(fpr,tpr)\n",
    "\n",
    "plt.plot(fpr, tpr,label=\"AUC Train:{0}\".format(auc1),color='blue', linewidth=2)\n",
    "\n",
    "plt.plot([0, 1], [0, 1], 'k--', lw=1) \n",
    "plt.xlim([0.0, 1.0]) \n",
    "plt.ylim([0.0, 1.05])\n",
    "\n",
    "plt.xlabel('False Positive Rate')  \n",
    "plt.ylabel('True Positive Rate') \n",
    "plt.title('ROC') \n",
    "plt.grid(True)\n",
    "plt.legend(loc=\"lower right\")\n",
    "plt.show()"
   ]
  },
  {
   "cell_type": "code",
   "execution_count": 51,
   "metadata": {
    "collapsed": false
   },
   "outputs": [
    {
     "ename": "NameError",
     "evalue": "name 'load_boston' is not defined",
     "output_type": "error",
     "traceback": [
      "\u001b[1;31m---------------------------------------------------------------------------\u001b[0m",
      "\u001b[1;31mNameError\u001b[0m                                 Traceback (most recent call last)",
      "\u001b[1;32m<ipython-input-51-c37a99bb4e54>\u001b[0m in \u001b[0;36m<module>\u001b[1;34m()\u001b[0m\n\u001b[0;32m      3\u001b[0m \u001b[1;32mfrom\u001b[0m \u001b[0msklearn\u001b[0m\u001b[1;33m.\u001b[0m\u001b[0mlinear_model\u001b[0m \u001b[1;32mimport\u001b[0m \u001b[0mLinearRegression\u001b[0m\u001b[1;33m\u001b[0m\u001b[0m\n\u001b[0;32m      4\u001b[0m \u001b[1;33m\u001b[0m\u001b[0m\n\u001b[1;32m----> 5\u001b[1;33m \u001b[0mboston\u001b[0m \u001b[1;33m=\u001b[0m \u001b[0mload_boston\u001b[0m\u001b[1;33m(\u001b[0m\u001b[1;33m)\u001b[0m\u001b[1;33m\u001b[0m\u001b[0m\n\u001b[0m\u001b[0;32m      6\u001b[0m \u001b[0mX\u001b[0m \u001b[1;33m=\u001b[0m \u001b[0mboston\u001b[0m\u001b[1;33m[\u001b[0m\u001b[1;34m\"data\"\u001b[0m\u001b[1;33m]\u001b[0m\u001b[1;33m\u001b[0m\u001b[0m\n\u001b[0;32m      7\u001b[0m \u001b[0mY\u001b[0m \u001b[1;33m=\u001b[0m \u001b[0mboston\u001b[0m\u001b[1;33m[\u001b[0m\u001b[1;34m\"target\"\u001b[0m\u001b[1;33m]\u001b[0m\u001b[1;33m\u001b[0m\u001b[0m\n",
      "\u001b[1;31mNameError\u001b[0m: name 'load_boston' is not defined"
     ]
    }
   ],
   "source": [
    "#Recursive feature elimination\n",
    "from sklearn.feature_selection import RFE\n",
    "from sklearn.linear_model import LinearRegression\n",
    " \n",
    "boston = load_boston()\n",
    "X = boston[\"data\"]\n",
    "Y = boston[\"target\"]\n",
    "names = boston[\"feature_names\"]\n",
    " \n",
    "#use linear regression as the model\n",
    "lr = LinearRegression()\n",
    "#rank all features, i.e continue the elimination until the last one\n",
    "rfe = RFE(lr, n_features_to_select=1)\n",
    "rfe.fit(X,Y)\n",
    " \n",
    "print \"Features sorted by their rank:\"\n",
    "print sorted(zip(map(lambda x: round(x, 4), rfe.ranking_), names))"
   ]
  },
  {
   "cell_type": "code",
   "execution_count": null,
   "metadata": {
    "collapsed": true
   },
   "outputs": [],
   "source": []
  }
 ],
 "metadata": {
  "kernelspec": {
   "display_name": "Python [Root]",
   "language": "python",
   "name": "Python [Root]"
  },
  "language_info": {
   "codemirror_mode": {
    "name": "ipython",
    "version": 2
   },
   "file_extension": ".py",
   "mimetype": "text/x-python",
   "name": "python",
   "nbconvert_exporter": "python",
   "pygments_lexer": "ipython2",
   "version": "2.7.12"
  }
 },
 "nbformat": 4,
 "nbformat_minor": 0
}

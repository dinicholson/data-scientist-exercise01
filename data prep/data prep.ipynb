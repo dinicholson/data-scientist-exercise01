{
 "cells": [
  {
   "cell_type": "code",
   "execution_count": 1,
   "metadata": {
    "collapsed": false
   },
   "outputs": [],
   "source": [
    "import sqlite3\n",
    "import pandas as pd"
   ]
  },
  {
   "cell_type": "code",
   "execution_count": 2,
   "metadata": {
    "collapsed": false
   },
   "outputs": [],
   "source": [
    "#connect to the sqlite db \n",
    "conn = sqlite3.connect(\"exercise01.sqlite\")\n",
    "c = conn.cursor()"
   ]
  },
  {
   "cell_type": "code",
   "execution_count": 3,
   "metadata": {
    "collapsed": false,
    "scrolled": true
   },
   "outputs": [
    {
     "name": "stdout",
     "output_type": "stream",
     "text": [
      "(1, 39, 8, 10, 13, 5, 2, 2, 5, 2, 2174, 0, 40, 40, 0)\n",
      "(2, 50, 7, 10, 13, 3, 5, 1, 5, 2, 0, 0, 13, 40, 0)\n",
      "(3, 38, 5, 12, 9, 1, 7, 2, 5, 2, 0, 0, 40, 40, 0)\n",
      "(4, 53, 5, 2, 7, 3, 7, 1, 3, 2, 0, 0, 40, 40, 0)\n",
      "(5, 28, 5, 10, 13, 3, 11, 6, 3, 1, 0, 0, 40, 6, 0)\n"
     ]
    }
   ],
   "source": [
    "#test connection \n",
    "for row in c.execute('SELECT * FROM records limit 5;'):\n",
    "        print(row)"
   ]
  },
  {
   "cell_type": "code",
   "execution_count": 4,
   "metadata": {
    "collapsed": false
   },
   "outputs": [
    {
     "data": {
      "text/html": [
       "<div>\n",
       "<table border=\"1\" class=\"dataframe\">\n",
       "  <thead>\n",
       "    <tr style=\"text-align: right;\">\n",
       "      <th></th>\n",
       "      <th>id</th>\n",
       "      <th>age</th>\n",
       "      <th>workclass_id</th>\n",
       "      <th>education_level_id</th>\n",
       "      <th>education_num</th>\n",
       "      <th>marital_status_id</th>\n",
       "      <th>occupation_id</th>\n",
       "      <th>race_id</th>\n",
       "      <th>sex_id</th>\n",
       "      <th>capital_gain</th>\n",
       "      <th>...</th>\n",
       "      <th>hours_week</th>\n",
       "      <th>country_id</th>\n",
       "      <th>over_50k</th>\n",
       "      <th>workclass</th>\n",
       "      <th>education_level</th>\n",
       "      <th>marital_status</th>\n",
       "      <th>occupation</th>\n",
       "      <th>race</th>\n",
       "      <th>sex</th>\n",
       "      <th>country</th>\n",
       "    </tr>\n",
       "  </thead>\n",
       "  <tbody>\n",
       "    <tr>\n",
       "      <th>0</th>\n",
       "      <td>1</td>\n",
       "      <td>39</td>\n",
       "      <td>8</td>\n",
       "      <td>10</td>\n",
       "      <td>13</td>\n",
       "      <td>5</td>\n",
       "      <td>2</td>\n",
       "      <td>5</td>\n",
       "      <td>2</td>\n",
       "      <td>2174</td>\n",
       "      <td>...</td>\n",
       "      <td>40</td>\n",
       "      <td>40</td>\n",
       "      <td>0</td>\n",
       "      <td>State-gov</td>\n",
       "      <td>Bachelors</td>\n",
       "      <td>Never-married</td>\n",
       "      <td>Adm-clerical</td>\n",
       "      <td>White</td>\n",
       "      <td>Male</td>\n",
       "      <td>United-States</td>\n",
       "    </tr>\n",
       "    <tr>\n",
       "      <th>1</th>\n",
       "      <td>2</td>\n",
       "      <td>50</td>\n",
       "      <td>7</td>\n",
       "      <td>10</td>\n",
       "      <td>13</td>\n",
       "      <td>3</td>\n",
       "      <td>5</td>\n",
       "      <td>5</td>\n",
       "      <td>2</td>\n",
       "      <td>0</td>\n",
       "      <td>...</td>\n",
       "      <td>13</td>\n",
       "      <td>40</td>\n",
       "      <td>0</td>\n",
       "      <td>Self-emp-not-inc</td>\n",
       "      <td>Bachelors</td>\n",
       "      <td>Married-civ-spouse</td>\n",
       "      <td>Exec-managerial</td>\n",
       "      <td>White</td>\n",
       "      <td>Male</td>\n",
       "      <td>United-States</td>\n",
       "    </tr>\n",
       "    <tr>\n",
       "      <th>2</th>\n",
       "      <td>3</td>\n",
       "      <td>38</td>\n",
       "      <td>5</td>\n",
       "      <td>12</td>\n",
       "      <td>9</td>\n",
       "      <td>1</td>\n",
       "      <td>7</td>\n",
       "      <td>5</td>\n",
       "      <td>2</td>\n",
       "      <td>0</td>\n",
       "      <td>...</td>\n",
       "      <td>40</td>\n",
       "      <td>40</td>\n",
       "      <td>0</td>\n",
       "      <td>Private</td>\n",
       "      <td>HS-grad</td>\n",
       "      <td>Divorced</td>\n",
       "      <td>Handlers-cleaners</td>\n",
       "      <td>White</td>\n",
       "      <td>Male</td>\n",
       "      <td>United-States</td>\n",
       "    </tr>\n",
       "    <tr>\n",
       "      <th>3</th>\n",
       "      <td>4</td>\n",
       "      <td>53</td>\n",
       "      <td>5</td>\n",
       "      <td>2</td>\n",
       "      <td>7</td>\n",
       "      <td>3</td>\n",
       "      <td>7</td>\n",
       "      <td>3</td>\n",
       "      <td>2</td>\n",
       "      <td>0</td>\n",
       "      <td>...</td>\n",
       "      <td>40</td>\n",
       "      <td>40</td>\n",
       "      <td>0</td>\n",
       "      <td>Private</td>\n",
       "      <td>11th</td>\n",
       "      <td>Married-civ-spouse</td>\n",
       "      <td>Handlers-cleaners</td>\n",
       "      <td>Black</td>\n",
       "      <td>Male</td>\n",
       "      <td>United-States</td>\n",
       "    </tr>\n",
       "    <tr>\n",
       "      <th>4</th>\n",
       "      <td>5</td>\n",
       "      <td>28</td>\n",
       "      <td>5</td>\n",
       "      <td>10</td>\n",
       "      <td>13</td>\n",
       "      <td>3</td>\n",
       "      <td>11</td>\n",
       "      <td>3</td>\n",
       "      <td>1</td>\n",
       "      <td>0</td>\n",
       "      <td>...</td>\n",
       "      <td>40</td>\n",
       "      <td>6</td>\n",
       "      <td>0</td>\n",
       "      <td>Private</td>\n",
       "      <td>Bachelors</td>\n",
       "      <td>Married-civ-spouse</td>\n",
       "      <td>Prof-specialty</td>\n",
       "      <td>Black</td>\n",
       "      <td>Female</td>\n",
       "      <td>Cuba</td>\n",
       "    </tr>\n",
       "  </tbody>\n",
       "</table>\n",
       "<p>5 rows × 21 columns</p>\n",
       "</div>"
      ],
      "text/plain": [
       "   id  age  workclass_id  education_level_id  education_num  \\\n",
       "0   1   39             8                  10             13   \n",
       "1   2   50             7                  10             13   \n",
       "2   3   38             5                  12              9   \n",
       "3   4   53             5                   2              7   \n",
       "4   5   28             5                  10             13   \n",
       "\n",
       "   marital_status_id  occupation_id  race_id  sex_id  capital_gain  \\\n",
       "0                  5              2        5       2          2174   \n",
       "1                  3              5        5       2             0   \n",
       "2                  1              7        5       2             0   \n",
       "3                  3              7        3       2             0   \n",
       "4                  3             11        3       1             0   \n",
       "\n",
       "       ...        hours_week  country_id  over_50k         workclass  \\\n",
       "0      ...                40          40         0         State-gov   \n",
       "1      ...                13          40         0  Self-emp-not-inc   \n",
       "2      ...                40          40         0           Private   \n",
       "3      ...                40          40         0           Private   \n",
       "4      ...                40           6         0           Private   \n",
       "\n",
       "  education_level      marital_status         occupation   race     sex  \\\n",
       "0       Bachelors       Never-married       Adm-clerical  White    Male   \n",
       "1       Bachelors  Married-civ-spouse    Exec-managerial  White    Male   \n",
       "2         HS-grad            Divorced  Handlers-cleaners  White    Male   \n",
       "3            11th  Married-civ-spouse  Handlers-cleaners  Black    Male   \n",
       "4       Bachelors  Married-civ-spouse     Prof-specialty  Black  Female   \n",
       "\n",
       "         country  \n",
       "0  United-States  \n",
       "1  United-States  \n",
       "2  United-States  \n",
       "3  United-States  \n",
       "4           Cuba  \n",
       "\n",
       "[5 rows x 21 columns]"
      ]
     },
     "execution_count": 4,
     "metadata": {},
     "output_type": "execute_result"
    }
   ],
   "source": [
    "# join/flatten the data and write to a dataframe\n",
    "# check that joins worked\n",
    "df = pd.read_sql_query(\"\"\"\n",
    "                        SELECT r.id, r.age, r.workclass_id, r.education_level_id, r.education_num, r.marital_status_id,\n",
    "                        r.occupation_id, r.race_id, r.sex_id, r.capital_gain, r.capital_loss,r.hours_week, r.country_id, \n",
    "                        r.over_50k, w.name as workclass, e.name as education_level, m.name as marital_status, \n",
    "                        o.name as occupation, ra.name as race, s.name as sex, c.name as country\n",
    "                        FROM records r\n",
    "                        LEFT JOIN workclasses w\n",
    "                        on r.workclass_id = w.id\n",
    "                        LEFT JOIN education_levels e\n",
    "                        on r.education_level_id = e.id\n",
    "                        LEFT JOIN marital_statuses m\n",
    "                        on r.marital_status_id = m.id\n",
    "                        LEFT JOIN occupations o\n",
    "                        on r.occupation_id = o.id\n",
    "                        LEFT JOIN races ra\n",
    "                        on r.race_id = ra.id\n",
    "                        LEFT JOIN sexes s\n",
    "                        on r.sex_id = s.id\n",
    "                        LEFT JOIN countries c\n",
    "                        on r.country_id = c.id;\"\"\", conn)\n",
    "df.head()"
   ]
  },
  {
   "cell_type": "code",
   "execution_count": 7,
   "metadata": {
    "collapsed": false
   },
   "outputs": [],
   "source": [
    "# change '?' values in workclass and occupation\n",
    "# these will later be dummied for modeling\n",
    "df['workclass'].replace('?', 'class unknown',inplace=True)\n",
    "df['occupation'].replace('?', 'occup unknown',inplace=True)"
   ]
  },
  {
   "cell_type": "code",
   "execution_count": 8,
   "metadata": {
    "collapsed": false
   },
   "outputs": [],
   "source": [
    "#write dataframe to csv without the Index\n",
    "df.to_csv('exercise01_flat.csv', index = False)"
   ]
  },
  {
   "cell_type": "code",
   "execution_count": null,
   "metadata": {
    "collapsed": true
   },
   "outputs": [],
   "source": []
  }
 ],
 "metadata": {
  "kernelspec": {
   "display_name": "Python [Root]",
   "language": "python",
   "name": "Python [Root]"
  },
  "language_info": {
   "codemirror_mode": {
    "name": "ipython",
    "version": 2
   },
   "file_extension": ".py",
   "mimetype": "text/x-python",
   "name": "python",
   "nbconvert_exporter": "python",
   "pygments_lexer": "ipython2",
   "version": "2.7.12"
  }
 },
 "nbformat": 4,
 "nbformat_minor": 0
}

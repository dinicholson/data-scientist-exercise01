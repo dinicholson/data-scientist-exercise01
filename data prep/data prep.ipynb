{
 "cells": [
  {
   "cell_type": "code",
   "execution_count": 9,
   "metadata": {
    "collapsed": true
   },
   "outputs": [],
   "source": [
    "import os\n",
    "import sqlite3\n",
    "import pandas as pd"
   ]
  },
  {
   "cell_type": "code",
   "execution_count": 5,
   "metadata": {
    "collapsed": false
   },
   "outputs": [],
   "source": [
    "#connect to the sqlite db and set cursor\n",
    "conn = sqlite3.connect(\"exercise01.sqlite\") \n",
    "c = conn.cursor()"
   ]
  },
  {
   "cell_type": "code",
   "execution_count": 8,
   "metadata": {
    "collapsed": false
   },
   "outputs": [
    {
     "name": "stdout",
     "output_type": "stream",
     "text": [
      "(1, u'?')\n",
      "(2, u'Cambodia')\n",
      "(3, u'Canada')\n",
      "(4, u'China')\n",
      "(5, u'Columbia')\n",
      "(6, u'Cuba')\n",
      "(7, u'Dominican-Republic')\n",
      "(8, u'Ecuador')\n",
      "(9, u'El-Salvador')\n",
      "(10, u'England')\n",
      "(11, u'France')\n",
      "(12, u'Germany')\n",
      "(13, u'Greece')\n",
      "(14, u'Guatemala')\n",
      "(15, u'Haiti')\n",
      "(16, u'Holand-Netherlands')\n",
      "(17, u'Honduras')\n",
      "(18, u'Hong')\n",
      "(19, u'Hungary')\n",
      "(20, u'India')\n",
      "(21, u'Iran')\n",
      "(22, u'Ireland')\n",
      "(23, u'Italy')\n",
      "(24, u'Jamaica')\n",
      "(25, u'Japan')\n",
      "(26, u'Laos')\n",
      "(27, u'Mexico')\n",
      "(28, u'Nicaragua')\n",
      "(29, u'Outlying-US(Guam-USVI-etc)')\n",
      "(30, u'Peru')\n",
      "(31, u'Philippines')\n",
      "(32, u'Poland')\n",
      "(33, u'Portugal')\n",
      "(34, u'Puerto-Rico')\n",
      "(35, u'Scotland')\n",
      "(36, u'South')\n",
      "(37, u'Taiwan')\n",
      "(38, u'Thailand')\n",
      "(39, u'Trinadad&Tobago')\n",
      "(40, u'United-States')\n",
      "(41, u'Vietnam')\n",
      "(42, u'Yugoslavia')\n"
     ]
    }
   ],
   "source": [
    "for row in c.execute('SELECT * FROM countries'):\n",
    "        print(row)"
   ]
  },
  {
   "cell_type": "code",
   "execution_count": null,
   "metadata": {
    "collapsed": true
   },
   "outputs": [],
   "source": []
  }
 ],
 "metadata": {
  "kernelspec": {
   "display_name": "Python [Root]",
   "language": "python",
   "name": "Python [Root]"
  },
  "language_info": {
   "codemirror_mode": {
    "name": "ipython",
    "version": 2
   },
   "file_extension": ".py",
   "mimetype": "text/x-python",
   "name": "python",
   "nbconvert_exporter": "python",
   "pygments_lexer": "ipython2",
   "version": "2.7.12"
  }
 },
 "nbformat": 4,
 "nbformat_minor": 0
}

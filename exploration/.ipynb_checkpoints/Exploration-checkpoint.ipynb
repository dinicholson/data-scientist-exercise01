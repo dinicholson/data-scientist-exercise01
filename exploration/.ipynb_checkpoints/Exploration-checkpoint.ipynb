{
 "cells": [
  {
   "cell_type": "markdown",
   "metadata": {},
   "source": [
    "## <a name=\"setup\"></a>Global Configuration and Setting Up"
   ]
  },
  {
   "cell_type": "code",
   "execution_count": 1,
   "metadata": {
    "collapsed": false
   },
   "outputs": [
    {
     "data": {
      "text/plain": [
       "u'C:\\\\Users\\\\Doug\\\\Documents\\\\GitHub\\\\data-scientist-exercise01\\\\exploration'"
      ]
     },
     "execution_count": 1,
     "metadata": {},
     "output_type": "execute_result"
    }
   ],
   "source": [
    "#your working directory\n",
    "pwd"
   ]
  },
  {
   "cell_type": "code",
   "execution_count": null,
   "metadata": {
    "collapsed": false
   },
   "outputs": [],
   "source": [
    "# Set the working directory as the directory where ReportMagics.py stays\n",
    "# Use \\\\ in your path\n",
    "import os\n",
    "workingDir = 'C:\\\\Users\\\\Doug\\\\Documents\\\\GitHub\\\\data-scientist-exercise01\\\\exploration'\n",
    "os.chdir(workingDir)\n",
    "\n",
    "from ReportMagics import *\n",
    "\n",
    "merged_report ='Exploratory_Report.ipynb'\n",
    "%reset_all"
   ]
  },
  {
   "cell_type": "code",
   "execution_count": null,
   "metadata": {
    "collapsed": false
   },
   "outputs": [],
   "source": [
    "%%add_conf_code_to_report\n",
    "import os\n",
    "workingDir = 'C:\\\\Users\\\\Doug\\\\Documents\\\\GitHub\\\\Azure-TDSP-Utilities\\\\DataScienceUtilities\\\\DataReport-Utils\\\\Python2'\n",
    "os.chdir(workingDir)\n",
    "\n",
    "conf_file = '.\\\\para-adult.yaml'\n",
    "Sample_Size = 10000\n",
    "\n",
    "export_dir = '.\\\\tmp\\\\'"
   ]
  },
  {
   "cell_type": "markdown",
   "metadata": {},
   "source": [
    "### Import necessary packages and set up environment parameters"
   ]
  },
  {
   "cell_type": "code",
   "execution_count": null,
   "metadata": {
    "collapsed": false
   },
   "outputs": [],
   "source": [
    "%%add_conf_code_to_report\n",
    "\n",
    "import pandas as pd\n",
    "import numpy as np\n",
    "import os\n",
    "#os.chdir(workingDir)\n",
    "import collections\n",
    "import matplotlib\n",
    "import io\n",
    "import sys\n",
    "import operator\n",
    "\n",
    "import nbformat as nbf\n",
    "from IPython.core.display import HTML\n",
    "from IPython.display import display\n",
    "from ipywidgets import interact, interactive,fixed\n",
    "from IPython.display import Javascript, display,HTML\n",
    "from ipywidgets import widgets, VBox\n",
    "import ipywidgets\n",
    "import IPython\n",
    "from IPython.display import clear_output\n",
    "import scipy.stats as stats\n",
    "from statsmodels.graphics.mosaicplot import mosaic\n",
    "import statsmodels.api as sm\n",
    "from statsmodels.formula.api import ols\n",
    "import os\n",
    "import errno\n",
    "import seaborn as sns\n",
    "from string import Template\n",
    "from functools import partial\n",
    "from collections import OrderedDict\n",
    "\n",
    "# Utility Classes\n",
    "from ConfUtility import * \n",
    "from ReportGeneration import *\n",
    "from UniVarAnalytics import *\n",
    "from MultiVarAnalytics import *\n",
    "\n",
    "%matplotlib inline\n",
    "\n",
    "#DEBUG=0\n",
    "\n",
    "font={'family':'normal','weight':'normal','size':8}\n",
    "matplotlib.rc('font',**font)\n",
    "matplotlib.rcParams['figure.figsize'] = (12.0, 5.0)\n",
    "matplotlib.rc('xtick', labelsize=9) \n",
    "matplotlib.rc('ytick', labelsize=9)\n",
    "matplotlib.rc('axes', labelsize=10)\n",
    "matplotlib.rc('axes', titlesize=10)\n",
    "sns.set_style('whitegrid')"
   ]
  },
  {
   "cell_type": "markdown",
   "metadata": {
    "collapsed": true
   },
   "source": [
    "### Define some functions for generating reports"
   ]
  },
  {
   "cell_type": "code",
   "execution_count": null,
   "metadata": {
    "collapsed": false
   },
   "outputs": [],
   "source": [
    "%%add_conf_code_to_report\n",
    "\n",
    "if not os.path.exists(export_dir):\n",
    "    os.makedirs(export_dir)\n",
    "    \n",
    "def gen_report(conf_md,conf_code, md, code, filename):\n",
    "    ReportGeneration.write_report(conf_md, conf_code, md, code, report_name=filename)\n",
    "\n",
    "def translate_code_commands(cell, exported_cols, composite=False):    \n",
    "    new_code_store = []\n",
    "    exported_cols = [each for each in exported_cols if each!='']   \n",
    "    for each in exported_cols:       \n",
    "        w,x,y = each.split(',')\n",
    "        with open('log.txt','w') as fout:\n",
    "            fout.write('Processing call for the column {}'.format(each))\n",
    "        temp=cell[0]\n",
    "\n",
    "        new_line = temp.replace('interactive','apply').replace(\n",
    "            \"df=fixed(df)\",\"df\").replace(\"filename=fixed(filename)\",\"'\"+ReportMagic.var_files+\"'\").replace(\n",
    "            \"col1=w1\",\"'\"+w+\"'\").replace(\"col2=w2\",\"'\"+x+\"'\").replace(\"col3=w3\",\"'\"+y+\"'\").replace(\n",
    "            \"col3=fixed(w3)\",\"'\"+y+\"'\").replace(\n",
    "            \"Export=w_export\",\"False\").replace(\"conf_dict=fixed(conf_dict)\",\"conf_dict\")       \n",
    "        new_line = new_line.replace(\"df,\",\"[df,\")\n",
    "        new_line = new_line[:len(new_line)-1]+\"])\"\n",
    "        new_code_store.append(new_line)        \n",
    "    return new_code_store\n",
    "\n",
    "def add_to_report(section='', task=''):\n",
    "    print 'Section {}, Task {} added for report generation'.format(section ,task)\n",
    "\n",
    "def trigger_report(widgets,export_cols_file, output_report, no_widgets=1, md_text=''):\n",
    "    exported_cols = []\n",
    "    with open(export_cols_file,'r') as fin:\n",
    "        for each in fin:\n",
    "            each = each.strip()\n",
    "            if each and not each.isspace():\n",
    "                exported_cols.append(each)\n",
    "                \n",
    "    exported_cols = list(set(exported_cols))\n",
    "    conf_md, conf_code, md, code=%show_report \n",
    "    md = md_text\n",
    "    cell = code\n",
    "    new_code_store = translate_code_commands(cell,exported_cols)\n",
    "    gen_report(conf_md,conf_code, md, new_code_store, filename=export_dir+output_report)\n",
    "    \n",
    "def silentremove(filename):\n",
    "    try:\n",
    "        os.remove(filename)\n",
    "    except OSError as e: # this would be \"except OSError, e:\" before Python 2.6\n",
    "        if e.errno != errno.ENOENT: # errno.ENOENT = no such file or directory\n",
    "            raise # re-raise exception if a different error occured\n",
    "\n",
    "def handle_change(value):\n",
    "    w_export.value=False\n",
    "\n",
    "def getWidgetValue(w):\n",
    "    w_value = ''\n",
    "    try:\n",
    "        w_value = w.value\n",
    "    except:\n",
    "        pass    \n",
    "    return w_value\n",
    "\n",
    "def handle_export(widget, w1, w2, w3, export_filename='temp.ipynb',md_text=''):    \n",
    "    print 'handle_export called'\n",
    "    w1_value, w2_value, w3_value = \\\n",
    "        getWidgetValue(w1),getWidgetValue(w2),getWidgetValue(w3)\n",
    "    st = ','.join(str(each) for each in [w1_value, w2_value, w3_value])\n",
    "    with open(filename,'a') as fout:\n",
    "        fout.write(st+'\\n')\n",
    "    trigger_report(w1_value, filename, export_filename, False, md_text=md_text)  \n",
    "    \n",
    "            "
   ]
  },
  {
   "cell_type": "markdown",
   "metadata": {},
   "source": [
    "## <a name=\"read and summarize\"></a> Read and Summarize the Data"
   ]
  },
  {
   "cell_type": "markdown",
   "metadata": {},
   "source": [
    "### Read data and infer column types"
   ]
  },
  {
   "cell_type": "code",
   "execution_count": null,
   "metadata": {
    "collapsed": false
   },
   "outputs": [],
   "source": [
    "%%add_conf_code_to_report\n",
    "\n",
    "conf_dict = ConfUtility.parse_yaml(conf_file)\n",
    "\n",
    "# Read in data from local file or SQL server\n",
    "if 'DataSource' not in conf_dict:\n",
    "    df=pd.read_csv(conf_dict['DataFilePath'], skipinitialspace=True)\n",
    "else:\n",
    "    import pyodbc\n",
    "    cnxn = pyodbc.connect('driver=ODBC Driver 11 for SQL Server;server={};database={};Uid={};Pwd={}'.format(\n",
    "            conf_dict['Server'], conf_dict['Database'],conf_dict['Username'],conf_dict['Password']))\n",
    "    df = pd.read_sql(conf_dict['Query'],cnxn)\n",
    "\n",
    "# Making sure that we are not reading any extra column\n",
    "df = df[[each for each in df.columns if 'Unnamed' not in each]]\n",
    "\n",
    "# Sampling Data if data size is larger than 10k\n",
    "df0 = df # df0 is the unsampled data. Will be used in data exploration and analysis where sampling is not needed\n",
    "         # However, keep in mind that your final report will always be based on the sampled data. \n",
    "if Sample_Size < df.shape[0]:\n",
    "    df = df.sample(Sample_Size)\n",
    "\n",
    "# change float data types\n",
    "if 'FloatDataTypes' in conf_dict:   \n",
    "    for col_name in conf_dict['FloatDataTypes']:\n",
    "        df[col_name] = df[col_name].astype(float)      \n",
    "        \n",
    "# Getting the list of categorical columns if it was not there in the yaml file\n",
    "if 'CategoricalColumns' not in conf_dict:\n",
    "    conf_dict['CategoricalColumns'] = list(set(list(df.select_dtypes(exclude=[np.number]).columns)))\n",
    "\n",
    "# Getting the list of numerical columns if it was not there in the yaml file\n",
    "if 'NumericalColumns' not in conf_dict:\n",
    "    conf_dict['NumericalColumns'] = list(df.select_dtypes(include=[np.number]).columns)    \n",
    "\n",
    "# Exclude columns that we do not need\n",
    "if 'ColumnsToExclude' in conf_dict:\n",
    "    conf_dict['CategoricalColumns'] = list(set(conf_dict['CategoricalColumns'])-set(conf_dict['ColumnsToExclude']))\n",
    "    conf_dict['NumericalColumns'] = list(set(conf_dict['NumericalColumns'])-set(conf_dict['ColumnsToExclude']))\n",
    "\n",
    "# Ordering the categorical variables according to the number of unique categories\n",
    "filtered_cat_columns = []\n",
    "temp_dict = {}\n",
    "for cat_var in conf_dict['CategoricalColumns']:\n",
    "    temp_dict[cat_var] = len(np.unique(df[cat_var]))\n",
    "sorted_x = sorted(temp_dict.items(), key=operator.itemgetter(0), reverse=True)\n",
    "conf_dict['CategoricalColumns'] = [x for (x,y) in sorted_x]\n",
    "\n",
    "ConfUtility.dict_to_htmllist(conf_dict,['Target','CategoricalColumns','NumericalColumns'])"
   ]
  },
  {
   "cell_type": "markdown",
   "metadata": {},
   "source": [
    "### Print the first n (n=5 by default) rows of the data"
   ]
  },
  {
   "cell_type": "code",
   "execution_count": null,
   "metadata": {
    "collapsed": false
   },
   "outputs": [],
   "source": [
    "%%add_conf_code_to_report\n",
    "def custom_head(df,NoOfRows):\n",
    "    return HTML(df.head(NoOfRows).style.set_table_attributes(\"class='table'\").render())\n",
    "i = interact(custom_head,df=fixed(df0), NoOfRows=ipywidgets.IntSlider(min=0, max=30, step=1, \\\n",
    "                                                                     value=5, description='Number of Rows'))"
   ]
  },
  {
   "cell_type": "markdown",
   "metadata": {
    "collapsed": false
   },
   "source": [
    "### Print the dimensions of the data (rows, columns)"
   ]
  },
  {
   "cell_type": "code",
   "execution_count": null,
   "metadata": {
    "collapsed": false,
    "scrolled": false
   },
   "outputs": [],
   "source": [
    "%%add_conf_code_to_report\n",
    "print 'The data has {} Rows and {} columns'.format(df0.shape[0],df0.shape[1])"
   ]
  },
  {
   "cell_type": "markdown",
   "metadata": {
    "collapsed": false
   },
   "source": [
    "### Print the column names of the data"
   ]
  },
  {
   "cell_type": "code",
   "execution_count": null,
   "metadata": {
    "collapsed": false,
    "scrolled": false
   },
   "outputs": [],
   "source": [
    "%%add_conf_code_to_report\n",
    "col_names = ','.join(each for each in list(df.columns))\n",
    "print(\"The column names are:\" + col_names)"
   ]
  },
  {
   "cell_type": "markdown",
   "metadata": {
    "collapsed": true
   },
   "source": [
    "### Print the column types"
   ]
  },
  {
   "cell_type": "code",
   "execution_count": null,
   "metadata": {
    "collapsed": false,
    "scrolled": false
   },
   "outputs": [],
   "source": [
    "%%add_conf_code_to_report\n",
    "print(\"The types of columns are:\")\n",
    "df.dtypes"
   ]
  },
  {
   "cell_type": "markdown",
   "metadata": {},
   "source": [
    "## <a name=\"individual variable\"></a>Extract Descriptive Statistics of Each Column"
   ]
  },
  {
   "cell_type": "code",
   "execution_count": null,
   "metadata": {
    "collapsed": false
   },
   "outputs": [],
   "source": [
    "%%add_conf_code_to_report\n",
    "def num_missing(x):\n",
    "    return len(x.index)-x.count()\n",
    "\n",
    "def num_unique(x):\n",
    "    return len(np.unique(x))\n",
    "\n",
    "temp_df = df0.describe().T\n",
    "missing_df = pd.DataFrame(df0.apply(num_missing, axis=0)) \n",
    "missing_df.columns = ['missing']\n",
    "unq_df = pd.DataFrame(df0.apply(num_unique, axis=0))\n",
    "unq_df.columns = ['unique']\n",
    "types_df = pd.DataFrame(df0.dtypes)\n",
    "types_df.columns = ['DataType']"
   ]
  },
  {
   "cell_type": "markdown",
   "metadata": {},
   "source": [
    "### Print the descriptive statistics of numerical columns"
   ]
  },
  {
   "cell_type": "code",
   "execution_count": null,
   "metadata": {
    "collapsed": false
   },
   "outputs": [],
   "source": [
    "%%add_conf_code_to_report\n",
    "summary_df = temp_df.join(missing_df).join(unq_df).join(types_df)\n",
    "summary_df"
   ]
  },
  {
   "cell_type": "markdown",
   "metadata": {},
   "source": [
    "### Print the descriptive statistics of categorical columns"
   ]
  },
  {
   "cell_type": "code",
   "execution_count": null,
   "metadata": {
    "collapsed": false
   },
   "outputs": [],
   "source": [
    "%%add_conf_code_to_report\n",
    "col_names = list(types_df.index) #Get all col names\n",
    "num_cols = len(col_names)\n",
    "index = range(num_cols)\n",
    "cat_index = []\n",
    "for i in index: #Find the indices of columns in Categorical columns\n",
    "    if col_names[i] in conf_dict['CategoricalColumns']:\n",
    "        cat_index.append(i)\n",
    "summary_df_cat = missing_df.join(unq_df).join(types_df.iloc[cat_index], how='inner') #Only summarize categorical columns\n",
    "summary_df_cat"
   ]
  },
  {
   "cell_type": "markdown",
   "metadata": {},
   "source": [
    "## <a name=\"individual variables\"></a>Explore Individual Variables"
   ]
  },
  {
   "cell_type": "markdown",
   "metadata": {},
   "source": [
    "### Explore the target variable"
   ]
  },
  {
   "cell_type": "code",
   "execution_count": null,
   "metadata": {
    "collapsed": false
   },
   "outputs": [],
   "source": [
    "md_text = '## Target Variable'\n",
    "filename = 'tmp/target_variables.csv'\n",
    "export_filename = 'target_report2.ipynb'\n",
    "\n",
    "if conf_dict['Target'] in conf_dict['CategoricalColumns']:\n",
    "    w1_value,w2_value,w3_value = '','',''\n",
    "    w1, w2, w3, w4 = None, None, None, None\n",
    "    silentremove(filename)    \n",
    "    w1 = widgets.Dropdown(\n",
    "        options=[conf_dict['Target']],\n",
    "        value=conf_dict['Target'],\n",
    "        description='Target Variable:',\n",
    "    )\n",
    "\n",
    "    ReportMagic.var_files = filename\n",
    "    w_export = widgets.Button(description='Export', value='Export')\n",
    "    handle_export_partial = partial(handle_export, w1=w1, w2=w2, w3=w3, export_filename=export_filename, md_text=md_text)      \n",
    "    w1.observe(handle_change,'value')\n",
    "    w_export.on_click(handle_export_partial)\n",
    "\n",
    "    %reset_report\n",
    "    %add_interaction_code_to_report i = interactive(TargetAnalytics.custom_barplot, df=fixed(df), \\\n",
    "                                                    filename=fixed(filename), col1=w1, Export=w_export)\n",
    "    hbox = widgets.HBox(i.children)\n",
    "    display(hbox)\n",
    "    hbox.on_displayed(TargetAnalytics.custom_barplot(df=df0, filename=filename, col1=w1.value, Export=w_export))\n",
    "else:\n",
    "    w1_value, w2_value, w3_value = '', '', ''\n",
    "    w1, w2, w3, w4 = None, None, None, None\n",
    "    silentremove(filename) \n",
    "    w1 = widgets.Dropdown(\n",
    "            options=[conf_dict['Target']],\n",
    "            value=conf_dict['Target'],\n",
    "            description='Target Variable:',\n",
    "        )\n",
    "    w_export = widgets.Button(description='Export', value='Export')\n",
    "    handle_export_partial = partial(handle_export, w1=w1, w2=w2, w3=w3, export_filename=export_filename, md_text=md_text)       \n",
    "    w1.observe(handle_change,'value')\n",
    "    w_export.on_click(handle_export_partial)\n",
    "\n",
    "    %reset_report\n",
    "    %add_interaction_code_to_report i = interactive(NumericAnalytics.custom_barplot, df=fixed(df), filename=fixed(filename),\\\n",
    "                                                    col1=w1, Export=w_export)\n",
    "    hbox = widgets.HBox(i.children)\n",
    "    display(hbox)\n",
    "    hbox.on_displayed(NumericAnalytics.custom_barplot(df=df, filename=filename, col1=w1.value, Export=w_export))"
   ]
  },
  {
   "cell_type": "markdown",
   "metadata": {},
   "source": [
    "### Explore individual numeric variables and test for normality (on sampled data)"
   ]
  },
  {
   "cell_type": "code",
   "execution_count": null,
   "metadata": {
    "collapsed": false
   },
   "outputs": [],
   "source": [
    "md_text = '## Visualize Individual Numerical Variables (on Sampled Data)'\n",
    "filename = ReportMagic.var_files='tmp/numeric_variables.csv'\n",
    "export_filename = 'numeric_report2.ipynb'\n",
    "w1_value, w2_value, w3_value = '', '', ''\n",
    "w1, w2, w3, w4 = None, None, None, None\n",
    "silentremove(filename) \n",
    "w1 = widgets.Dropdown(\n",
    "        options=conf_dict['NumericalColumns'],\n",
    "        value=conf_dict['NumericalColumns'][0],\n",
    "        description='Numeric Variable:',\n",
    "    )\n",
    "w_export = widgets.Button(description='Export', value='Export')\n",
    "handle_export_partial = partial(handle_export, w1=w1, w2=w2, w3=w3, export_filename=export_filename, md_text=md_text)       \n",
    "w1.observe(handle_change,'value')\n",
    "w_export.on_click(handle_export_partial)\n",
    "\n",
    "%reset_report\n",
    "%add_interaction_code_to_report i = interactive(NumericAnalytics.custom_barplot, df=fixed(df), filename=fixed(filename),\\\n",
    "                                                col1=w1, Export=w_export)\n",
    "hbox = widgets.HBox(i.children)\n",
    "display(hbox)\n",
    "hbox.on_displayed(NumericAnalytics.custom_barplot(df=df, filename=filename, col1=w1.value, Export=w_export))"
   ]
  },
  {
   "cell_type": "markdown",
   "metadata": {},
   "source": [
    "### Explore individual categorical variables (sorted by frequencies)"
   ]
  },
  {
   "cell_type": "code",
   "execution_count": null,
   "metadata": {
    "collapsed": false
   },
   "outputs": [],
   "source": [
    "w_export = None\n",
    "md_text = '## Visualize Individual Categorical Variables'\n",
    "filename = ReportMagic.var_files='tmp/categoric_variables.csv'\n",
    "export_filename = 'categoric_report2.ipynb'\n",
    "\n",
    "w1_value, w2_value, w3_value = '', '', ''\n",
    "w1, w2, w3, w4 = None, None, None, None\n",
    "silentremove(filename) \n",
    "w1 = widgets.Dropdown(\n",
    "    options = conf_dict['CategoricalColumns'],\n",
    "    value = conf_dict['CategoricalColumns'][0],\n",
    "    description = 'Categorical Variable:',\n",
    ")\n",
    "\n",
    "w_export = widgets.Button(description='Export')\n",
    "handle_export_partial = partial(handle_export, w1=w1, w2=w2, w3=w3, export_filename=export_filename, md_text=md_text)       \n",
    "w1.observe (handle_change,'value')\n",
    "w_export.on_click(handle_export_partial)\n",
    "\n",
    "%reset_report\n",
    "%add_interaction_code_to_report i = interactive(CategoricAnalytics.custom_barplot, df=fixed(df),\\\n",
    "                                                filename=fixed(filename), col1=w1, Export=w_export)\n",
    "\n",
    "hbox = widgets.HBox(i.children)\n",
    "display(hbox)\n",
    "hbox.on_displayed(CategoricAnalytics.custom_barplot(df=df0, filename=filename, col1=w1.value, \\\n",
    "                                         Export=w_export))"
   ]
  },
  {
   "cell_type": "markdown",
   "metadata": {},
   "source": [
    "## <a name=\"multiple variables\"></a>Explore Interactions Between Variables"
   ]
  },
  {
   "cell_type": "markdown",
   "metadata": {},
   "source": [
    "### <a name=\"rank variables\"></a>Rank variables based on linear relationships with reference variable (on sampled data)"
   ]
  },
  {
   "cell_type": "code",
   "execution_count": null,
   "metadata": {
    "collapsed": false
   },
   "outputs": [],
   "source": [
    "md_text = '## Rank variables based on linear relationships with reference variable (on sampled data)'\n",
    "filename = ReportMagic.var_files='tmp/rank_associations.csv'\n",
    "export_filename = 'rank_report2.ipynb'\n",
    "silentremove(filename)\n",
    "cols_list = [conf_dict['Target']] + conf_dict['NumericalColumns'] + conf_dict['CategoricalColumns'] #Make target the default reference variable\n",
    "cols_list = list(OrderedDict.fromkeys(cols_list)) #remove variables that might be duplicates with target\n",
    "w1 = widgets.Dropdown(    \n",
    "    options=cols_list,\n",
    "    value=cols_list[0],\n",
    "    description='Ref Var:'\n",
    ")\n",
    "w2 = ipywidgets.Text(value=\"5\", description='Top Num Vars:')\n",
    "w3 = ipywidgets.Text(value=\"5\", description='Top Cat Vars:')\n",
    "w_export = widgets.Button(description='Export', value='Export')\n",
    "handle_export_partial = partial(handle_export, w1=w1, w2=w2, w3=w3, export_filename=export_filename, md_text=md_text)\n",
    "w1.observe (handle_change,'value')\n",
    "w_export.on_click(handle_export_partial)\n",
    "\n",
    "%reset_report\n",
    "%add_interaction_code_to_report i = interactive(InteractionAnalytics.rank_associations, df=fixed(df), \\\n",
    "                                                conf_dict=fixed(conf_dict), col1=w1, col2=w2, col3=w3, Export=w_export)\n",
    "hbox = widgets.HBox(i.children)\n",
    "display(hbox)\n",
    "hbox.on_displayed(InteractionAnalytics.rank_associations(df=df, conf_dict=conf_dict, col1=w1.value, \\\n",
    "                                                         col2=w2.value, col3=w3.value, Export=w_export))"
   ]
  },
  {
   "cell_type": "markdown",
   "metadata": {},
   "source": [
    "### <a name=\"two categorical\"></a>Explore interactions between categorical variables"
   ]
  },
  {
   "cell_type": "code",
   "execution_count": null,
   "metadata": {
    "collapsed": false
   },
   "outputs": [],
   "source": [
    "md_text = '## Interaction between categorical variables'\n",
    "filename = ReportMagic.var_files='tmp/cat_interactions.csv'\n",
    "export_filename = 'cat_interactions_report2.ipynb'\n",
    "silentremove(filename) \n",
    "w1, w2, w3, w4 = None, None, None, None\n",
    "\n",
    "if conf_dict['Target'] in conf_dict['CategoricalColumns']:\n",
    "    cols_list = [conf_dict['Target']] + conf_dict['CategoricalColumns'] #Make target the default reference variable\n",
    "    cols_list = list(OrderedDict.fromkeys(cols_list)) #remove variables that might be duplicates with target\n",
    "else:\n",
    "    cols_list = conf_dict['CategoricalColumns']\n",
    "    \n",
    "w1 = widgets.Dropdown(\n",
    "    options=cols_list,\n",
    "    value=cols_list[0],\n",
    "    description='Categorical Var 1:'\n",
    ")\n",
    "w2 = widgets.Dropdown(\n",
    "    options=cols_list,\n",
    "    value=cols_list[1],\n",
    "    description='Categorical Var 2:'\n",
    ")\n",
    "w_export = widgets.Button(description='Export', value=\"Export\")\n",
    "handle_export_partial = partial(handle_export, w1=w1, w2=w2, w3=w3, export_filename=export_filename, md_text=md_text)       \n",
    "w1.observe(handle_change,'value')\n",
    "w2.observe(handle_change,'value')\n",
    "w_export.on_click(handle_export_partial)\n",
    "\n",
    "%reset_report\n",
    "%add_interaction_code_to_report i = interactive(InteractionAnalytics.categorical_relations, df=fixed(df), \\\n",
    "                                         filename=fixed(filename), col1=w1, col2=w2, Export=w_export)\n",
    "hbox = widgets.HBox(i.children)\n",
    "display(hbox)\n",
    "hbox.on_displayed(InteractionAnalytics.categorical_relations(df=df0, filename=filename, col1=w1.value, \\\n",
    "                                                             col2=w2.value, Export=w_export))"
   ]
  },
  {
   "cell_type": "markdown",
   "metadata": {},
   "source": [
    "### <a name=\"two numerical\"></a>Explore interactions between numerical variables (on sampled data)"
   ]
  },
  {
   "cell_type": "code",
   "execution_count": null,
   "metadata": {
    "collapsed": false
   },
   "outputs": [],
   "source": [
    "md_text = '## Interaction between numerical variables (on sampled data)'\n",
    "filename = ReportMagic.var_files='tmp/numerical_interactions.csv'\n",
    "export_filename = 'numerical_interactions_report2.ipynb'\n",
    "silentremove(filename) \n",
    "w1, w2, w3, w4 = None, None, None, None\n",
    "\n",
    "if conf_dict['Target'] in conf_dict['NumericalColumns']:\n",
    "    cols_list = [conf_dict['Target']] + conf_dict['NumericalColumns'] #Make target the default reference variable\n",
    "    cols_list = list(OrderedDict.fromkeys(cols_list)) #remove variables that might be duplicates with target\n",
    "else:\n",
    "    cols_list = conf_dict['NumericalColumns']\n",
    "w1 = widgets.Dropdown(\n",
    "    options=cols_list,\n",
    "    value=cols_list[0],\n",
    "    description='Numerical Var 1:'\n",
    ")\n",
    "w2 = widgets.Dropdown(\n",
    "    options=cols_list,\n",
    "    value=cols_list[1],\n",
    "    description='Numerical Var 2:'\n",
    ")\n",
    "w_export = widgets.Button(description='Export', value=\"Export\")\n",
    "handle_export_partial = partial(handle_export, w1=w1, w2=w2, w3=w3, export_filename=export_filename, md_text=md_text)       \n",
    "w1.observe(handle_change,'value')\n",
    "w2.observe(handle_change,'value')\n",
    "w_export.on_click(handle_export_partial)\n",
    "\n",
    "%reset_report\n",
    "%add_interaction_code_to_report i = interactive(InteractionAnalytics.numerical_relations, df=fixed(df), \\\n",
    "                                         col1=w1, col2=w2, Export=w_export)\n",
    "hbox = widgets.HBox(i.children)\n",
    "display(hbox)\n",
    "hbox.on_displayed(InteractionAnalytics.numerical_relations(df, col1=w1.value, col2=w2.value, Export=w_export))"
   ]
  },
  {
   "cell_type": "markdown",
   "metadata": {},
   "source": [
    "### Explore correlation matrix between numerical variables"
   ]
  },
  {
   "cell_type": "code",
   "execution_count": null,
   "metadata": {
    "collapsed": false,
    "scrolled": false
   },
   "outputs": [],
   "source": [
    "md_text = '## Explore correlation matrix between numerical variables'\n",
    "filename = ReportMagic.var_files='tmp/numerical_corr.csv'\n",
    "export_filename = 'numerical_correlations_report2.ipynb'\n",
    "silentremove(filename) \n",
    "w1, w2, w3, w4 = None, None, None, None\n",
    "w1 = widgets.Dropdown(\n",
    "    options=['pearson','kendall','spearman'],\n",
    "    value='pearson',\n",
    "    description='Correlation Method:'\n",
    ")\n",
    "w_export = widgets.Button(description='Export', value='Export')\n",
    "handle_export_partial = partial(handle_export, w1=w1, w2=w2, w3=w3, export_filename=export_filename, md_text=md_text)       \n",
    "w1.observe(handle_change,'value')\n",
    "w_export.on_click(handle_export_partial)\n",
    "\n",
    "%reset_report\n",
    "%add_interaction_code_to_report i = interactive(InteractionAnalytics.numerical_correlation,df=fixed(df), conf_dict=fixed(conf_dict),\\\n",
    "                                         col1=w1, Export=w_export)\n",
    "\n",
    "hbox = widgets.HBox(i.children)\n",
    "display(hbox)\n",
    "hbox.on_displayed(InteractionAnalytics.numerical_correlation(df0, conf_dict=conf_dict, col1=w1.value, Export=w_export))"
   ]
  },
  {
   "cell_type": "markdown",
   "metadata": {},
   "source": [
    "### <a name=\"numerical and categorical\"></a>Explore interactions between numerical and categorical variables"
   ]
  },
  {
   "cell_type": "code",
   "execution_count": null,
   "metadata": {
    "collapsed": false
   },
   "outputs": [],
   "source": [
    "md_text = '## Explore interactions between numerical and categorical variables'\n",
    "filename = ReportMagic.var_files = 'tmp/nc_int.csv'\n",
    "export_filename = 'nc_report2.ipynb'\n",
    "silentremove(filename) \n",
    "w1, w2, w3, w4 = None, None, None, None\n",
    "\n",
    "if conf_dict['Target'] in conf_dict['NumericalColumns']:\n",
    "    cols_list = [conf_dict['Target']] + conf_dict['NumericalColumns'] #Make target the default reference variable\n",
    "    cols_list = list(OrderedDict.fromkeys(cols_list)) #remove variables that might be duplicates with target\n",
    "else:\n",
    "    cols_list = conf_dict['NumericalColumns']\n",
    "    \n",
    "w1 = widgets.Dropdown(\n",
    "    options=cols_list,\n",
    "    value=cols_list[0],\n",
    "    description='Numerical Variable:'\n",
    ")\n",
    "\n",
    "if conf_dict['Target'] in conf_dict['CategoricalColumns']:\n",
    "    cols_list = [conf_dict['Target']] + conf_dict['CategoricalColumns'] #Make target the default reference variable\n",
    "    cols_list = list(OrderedDict.fromkeys(cols_list)) #remove variables that might be duplicates with target\n",
    "else:\n",
    "    cols_list = conf_dict['CategoricalColumns']\n",
    "    \n",
    "w2 = widgets.Dropdown(\n",
    "    options=cols_list,\n",
    "    value=cols_list[0],\n",
    "    description='Categorical Variable:'\n",
    ")\n",
    "w_export = widgets.Button(description='Export', value=False, options=[True, False])\n",
    "handle_export_partial = partial(handle_export, w1=w1, w2=w2, w3=w3, export_filename=export_filename, md_text=md_text)      \n",
    "w1.observe(handle_change,'value')\n",
    "w_export.on_click(handle_export_partial)\n",
    "\n",
    "%reset_report\n",
    "%add_interaction_code_to_report i = interactive(InteractionAnalytics.nc_relation, df=fixed(df), \\\n",
    "                                                conf_dict=fixed(conf_dict), col1=w1, col2=w2, \\\n",
    "                                                col3=fixed(w3), Export=w_export)\n",
    "\n",
    "hbox = widgets.HBox(i.children)\n",
    "display( hbox )\n",
    "hbox.on_displayed(InteractionAnalytics.nc_relation(df0, conf_dict, col1=w1.value, col2=w2.value, Export=w_export))"
   ]
  },
  {
   "cell_type": "markdown",
   "metadata": {},
   "source": [
    "### <a name=\"two numerical and categorical\"></a>Explore interactions between two numerical variables and a categorical variable (on sampled data)"
   ]
  },
  {
   "cell_type": "code",
   "execution_count": null,
   "metadata": {
    "collapsed": false
   },
   "outputs": [],
   "source": [
    "md_text = '## Explore interactions between two numerical variables and a categorical variable (on sampled data)'\n",
    "filename = ReportMagic.var_files='tmp/nnc_int.csv'\n",
    "export_filename = 'nnc_report2.ipynb'\n",
    "silentremove(filename) \n",
    "w1, w2, w3, w4 = None, None, None, None\n",
    "\n",
    "if conf_dict['Target'] in conf_dict['NumericalColumns']:\n",
    "    cols_list = [conf_dict['Target']] + conf_dict['NumericalColumns'] #Make target the default reference variable\n",
    "    cols_list = list(OrderedDict.fromkeys(cols_list)) #remove variables that might be duplicates with target\n",
    "else:\n",
    "    cols_list = conf_dict['NumericalColumns']\n",
    "    \n",
    "w1 = widgets.Dropdown(\n",
    "    options = cols_list,\n",
    "    value = cols_list[0],\n",
    "    description = 'Numerical Var 1:'\n",
    ")\n",
    "w2 = widgets.Dropdown(\n",
    "    options = cols_list,\n",
    "    value = cols_list[1],\n",
    "    description = 'Numerical Var 2:'\n",
    ")\n",
    "\n",
    "if conf_dict['Target'] in conf_dict['CategoricalColumns']:\n",
    "    cols_list = [conf_dict['Target']] + conf_dict['CategoricalColumns'] #Make target the default reference variable\n",
    "    cols_list = list(OrderedDict.fromkeys(cols_list)) #remove variables that might be duplicates with target\n",
    "else:\n",
    "    cols_list = conf_dict['CategoricalColumns']\n",
    "    \n",
    "w3 = widgets.Dropdown(\n",
    "    options = cols_list,\n",
    "    value = cols_list[0],\n",
    "    description = 'Legend Cat Var:'\n",
    ")\n",
    "w_export = widgets.Button(description='Export', value=False, options=[True, False])\n",
    "handle_export_partial = partial(handle_export, w1=w1, w2=w2, w3=w3, export_filename=export_filename, md_text=md_text)       \n",
    "w1.observe(handle_change,'value')\n",
    "w_export.on_click(handle_export_partial)\n",
    "\n",
    "%reset_report\n",
    "%add_interaction_code_to_report i = interactive(InteractionAnalytics.nnc_relation, df=fixed(df),\\\n",
    "                                                conf_dict=fixed(conf_dict), col1=w1, col2=w2, col3=w3, Export=w_export)\n",
    "hbox = widgets.HBox(i.children)\n",
    "display(hbox)\n",
    "hbox.on_displayed(InteractionAnalytics.nnc_relation(df, conf_dict, col1=w1.value,\\\n",
    "                                                    col2=w2.value, col3=w3.value, Export=w_export))"
   ]
  },
  {
   "cell_type": "markdown",
   "metadata": {},
   "source": [
    "## <a name=\"pca\"></a>Visualize numerical data by projecting to principal component spaces (on sampled data)"
   ]
  },
  {
   "cell_type": "markdown",
   "metadata": {},
   "source": [
    "### Project data to 2-D principal component space (on sampled data)"
   ]
  },
  {
   "cell_type": "code",
   "execution_count": null,
   "metadata": {
    "collapsed": false
   },
   "outputs": [],
   "source": [
    "num_numeric = len(conf_dict['NumericalColumns'])\n",
    "if  num_numeric > 3:\n",
    "    md_text = '## Project Data to 2-D Principal Component Space'\n",
    "    filename = ReportMagic.var_files = 'tmp/numerical_pca.csv'\n",
    "    export_filename = 'numerical_pca_report2.ipynb'\n",
    "    silentremove(filename) \n",
    "    \n",
    "    w1, w2, w3, w4, w5 = None, None, None, None, None\n",
    "    if conf_dict['Target'] in conf_dict['CategoricalColumns']:\n",
    "        cols_list = [conf_dict['Target']] + conf_dict['CategoricalColumns'] #Make target the default reference variable\n",
    "        cols_list = list(OrderedDict.fromkeys(cols_list)) #remove variables that might be duplicates with target\n",
    "    else:\n",
    "        cols_list = conf_dict['CategoricalColumns']\n",
    "    w1 = widgets.Dropdown(\n",
    "        options = cols_list,\n",
    "        value = cols_list[0],\n",
    "        description = 'Legend Variable:',\n",
    "        width = 10\n",
    "    )\n",
    "    w2 = widgets.Dropdown(\n",
    "        options = [str(x) for x in np.arange(1,num_numeric+1)],\n",
    "        value = '1',\n",
    "        width = 1,\n",
    "        description='PC at X-Axis:'\n",
    "    )\n",
    "    w3 = widgets.Dropdown(\n",
    "        options = [str(x) for x in np.arange(1,num_numeric+1)],\n",
    "        value = '2',\n",
    "        description = 'PC at Y-Axis:'\n",
    "    )\n",
    "    w_export = widgets.Button(description='Export', value=False, options=[True, False])\n",
    "    handle_export_partial = partial(handle_export, w1=w1, w2=w2, w3=w3, export_filename=export_filename, md_text=md_text)       \n",
    "    w1.observe(handle_change,'value')\n",
    "    w_export.on_click(handle_export_partial)\n",
    "    \n",
    "    %reset_report\n",
    "    %add_interaction_code_to_report i = interactive(InteractionAnalytics.numerical_pca, df=fixed(df),\\\n",
    "                                                    conf_dict=fixed(conf_dict), col1=w1, col2=w2, col3=w3, Export=w_export)\n",
    "\n",
    "    \n",
    "    hbox = widgets.HBox(i.children)\n",
    "    display(hbox)\n",
    "    hbox.on_displayed(InteractionAnalytics.numerical_pca(df, conf_dict=conf_dict, col1=w1.value, col2=w2.value,\\\n",
    "                                                         col3=w3.value, Export=w_export))"
   ]
  },
  {
   "cell_type": "markdown",
   "metadata": {},
   "source": [
    "### Project data to 3-D principal component space (on sampled data)"
   ]
  },
  {
   "cell_type": "code",
   "execution_count": null,
   "metadata": {
    "collapsed": false
   },
   "outputs": [],
   "source": [
    "md_text = '## Project Data to 3-D Principal Component Space (on sampled data)'\n",
    "if len(conf_dict['NumericalColumns']) > 3:\n",
    "    filename = ReportMagic.var_files='tmp/pca3d.csv'\n",
    "    export_filename = 'pca3d_report2.ipynb'\n",
    "    silentremove(filename) \n",
    "    if conf_dict['Target'] in conf_dict['CategoricalColumns']:\n",
    "        cols_list = [conf_dict['Target']] + conf_dict['CategoricalColumns'] #Make target the default reference variable\n",
    "        cols_list = list(OrderedDict.fromkeys(cols_list)) #remove variables that might be duplicates with target\n",
    "    else:\n",
    "        cols_list = conf_dict['CategoricalColumns']\n",
    "    w1, w2, w3, w4 = None, None, None, None\n",
    "    w1 = widgets.Dropdown(\n",
    "        options=cols_list,\n",
    "        value=cols_list[0],\n",
    "        description='Legend Variable:'\n",
    "    )\n",
    "    w2 = ipywidgets.IntSlider(min=-180, max=180, step=5, value=30, description='Angle')\n",
    "    w_export = widgets.Button(description='Export',value='Export')\n",
    "    handle_export_partial = partial(handle_export, w1=w1, w2=w2, w3=w3, \\\n",
    "                                    export_filename=export_filename, md_text=md_text)     \n",
    "    w1.observe(handle_change,'value')\n",
    "    w_export.on_click(handle_export_partial)\n",
    "    \n",
    "    %reset_report\n",
    "    %add_interaction_code_to_report i = interactive(InteractionAnalytics.pca_3d, df=fixed(df), conf_dict=fixed(conf_dict),\\\n",
    "                                              col1=w1, col2=w2, col3=fixed(w3),Export=w_export)\n",
    "\n",
    "    hbox=widgets.HBox(i.children)\n",
    "    display(hbox)\n",
    "    hbox.on_displayed(InteractionAnalytics.pca_3d(df,conf_dict,col1=w1.value,col2=w2.value,Export=w_export))"
   ]
  },
  {
   "cell_type": "markdown",
   "metadata": {},
   "source": [
    "## <a name=\"report\"></a>Generate the Data Report"
   ]
  },
  {
   "cell_type": "code",
   "execution_count": null,
   "metadata": {
    "collapsed": false
   },
   "outputs": [],
   "source": [
    "filenames = ['target_report2.ipynb', 'numeric_report2.ipynb', 'categoric_report2.ipynb', 'rank_report2.ipynb',\n",
    "           'cat_interactions_report2.ipynb', 'numerical_interactions_report2.ipynb',\n",
    "             'numerical_correlations_report2.ipynb', 'nc_report2.ipynb',\n",
    "             'nnc_report2.ipynb', 'numerical_pca_report2.ipynb', 'pca3d_report2.ipynb'\n",
    "           ]\n",
    "\n",
    "def merge_notebooks():\n",
    "    merged = None\n",
    "    for fname in filenames:\n",
    "        try:\n",
    "            print 'Processing {}'.format(export_dir+fname)\n",
    "            with io.open(export_dir+fname, 'r', encoding='utf-8') as f:\n",
    "                nb = nbf.read(f, as_version=4)\n",
    "            if merged is None:\n",
    "                merged = nb\n",
    "            else:\n",
    "                merged.cells.extend(nb.cells[2:])\n",
    "        except:\n",
    "            print 'Warning: Unable to find the file', export_dir+'//'+fname, ', continue...'\n",
    "    if not hasattr(merged.metadata, 'name'):\n",
    "        merged.metadata.name = ''\n",
    "    merged.metadata.name += \"_merged\"\n",
    "    with open(merged_report, 'w') as f:\n",
    "        nbf.write(merged, f)\n",
    "\n",
    "def gen_merged_report(b):\n",
    "    merge_notebooks()\n",
    "    \n",
    "button=widgets.Button(description='Generate Final Report')\n",
    "button.on_click(gen_merged_report)\n",
    "display(button)"
   ]
  },
  {
   "cell_type": "markdown",
   "metadata": {},
   "source": [
    "## <a name=\"show hide codes\"></a>Show/Hide the Source Codes"
   ]
  },
  {
   "cell_type": "code",
   "execution_count": null,
   "metadata": {
    "collapsed": false
   },
   "outputs": [],
   "source": [
    "# Provide the path to the yaml file relative to the working directory\n",
    "display(HTML('''<style>\n",
    "    .widget-label { min-width: 20ex !important; }\n",
    "    .widget-text { min-width: 60ex !important; }\n",
    "</style>'''))\n",
    "\n",
    "#Toggle Code\n",
    "HTML('''<script>\n",
    "code_show=true; \n",
    "function code_toggle() {\n",
    " if (code_show){\n",
    " $('div.input').hide();\n",
    "\n",
    " } else {\n",
    " $('div.input').show();\n",
    "\n",
    " }\n",
    " code_show = !code_show\n",
    "} \n",
    "//$( document ).ready(code_toggle);//commenting code disabling by default\n",
    "</script>\n",
    "<form action = \"javascript:code_toggle()\"><input type=\"submit\" value=\"Toggle Raw Code\"></form>''')"
   ]
  },
  {
   "cell_type": "code",
   "execution_count": null,
   "metadata": {
    "collapsed": true
   },
   "outputs": [],
   "source": []
  }
 ],
 "metadata": {
  "anaconda-cloud": {},
  "kernelspec": {
   "display_name": "Python [Root]",
   "language": "python",
   "name": "Python [Root]"
  },
  "language_info": {
   "codemirror_mode": {
    "name": "ipython",
    "version": 2
   },
   "file_extension": ".py",
   "mimetype": "text/x-python",
   "name": "python",
   "nbconvert_exporter": "python",
   "pygments_lexer": "ipython2",
   "version": "2.7.12"
  }
 },
 "nbformat": 4,
 "nbformat_minor": 0
}

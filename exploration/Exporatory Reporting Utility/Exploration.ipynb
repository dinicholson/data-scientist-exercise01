{
 "cells": [
  {
   "cell_type": "markdown",
   "metadata": {},
   "source": [
    "## <a name=\"setup\"></a>Global Configuration and Setting Up"
   ]
  },
  {
   "cell_type": "code",
   "execution_count": 41,
   "metadata": {
    "collapsed": false
   },
   "outputs": [],
   "source": [
    "# Set the working directory as the directory where ReportMagics.py stays\n",
    "# Use \\\\ in your path\n",
    "import os\n",
    "workingDir = 'C:\\\\Users\\\\Doug\\\\Documents\\\\GitHub\\\\data-scientist-exercise01\\\\exploration'\n",
    "os.chdir(workingDir)\n",
    "\n",
    "from ReportMagics import *\n",
    "\n",
    "merged_report ='Exploratory_Report.ipynb'\n",
    "%reset_all"
   ]
  },
  {
   "cell_type": "code",
   "execution_count": 42,
   "metadata": {
    "collapsed": false
   },
   "outputs": [],
   "source": [
    "%%add_conf_code_to_report\n",
    "import os\n",
    "workingDir = 'C:\\\\Users\\\\Doug\\\\Documents\\\\GitHub\\\\data-scientist-exercise01\\\\exploration'\n",
    "os.chdir(workingDir)\n",
    "\n",
    "conf_file = '.\\\\specs.yaml'\n",
    "Sample_Size = 10000\n",
    "\n",
    "export_dir = '.\\\\tmp\\\\'"
   ]
  },
  {
   "cell_type": "code",
   "execution_count": 43,
   "metadata": {
    "collapsed": false
   },
   "outputs": [],
   "source": [
    "%%add_conf_code_to_report\n",
    "\n",
    "import pandas as pd\n",
    "import numpy as np\n",
    "import os\n",
    "#os.chdir(workingDir)\n",
    "import collections\n",
    "import matplotlib\n",
    "import io\n",
    "import sys\n",
    "import operator\n",
    "\n",
    "import nbformat as nbf\n",
    "from IPython.core.display import HTML\n",
    "from IPython.display import display\n",
    "from ipywidgets import interact, interactive,fixed\n",
    "from IPython.display import Javascript, display,HTML\n",
    "from ipywidgets import widgets, VBox\n",
    "import ipywidgets\n",
    "import IPython\n",
    "from IPython.display import clear_output\n",
    "import scipy.stats as stats\n",
    "from statsmodels.graphics.mosaicplot import mosaic\n",
    "import statsmodels.api as sm\n",
    "from statsmodels.formula.api import ols\n",
    "import os\n",
    "import errno\n",
    "import seaborn as sns\n",
    "from string import Template\n",
    "from functools import partial\n",
    "from collections import OrderedDict\n",
    "\n",
    "# Utility Classes\n",
    "from ConfUtility import * \n",
    "from ReportGeneration import *\n",
    "from UniVarAnalytics import *\n",
    "from MultiVarAnalytics import *\n",
    "\n",
    "%matplotlib inline\n",
    "\n",
    "#DEBUG=0\n",
    "\n",
    "font={'family':'normal','weight':'normal','size':8}\n",
    "matplotlib.rc('font',**font)\n",
    "matplotlib.rcParams['figure.figsize'] = (12.0, 5.0)\n",
    "matplotlib.rc('xtick', labelsize=9) \n",
    "matplotlib.rc('ytick', labelsize=9)\n",
    "matplotlib.rc('axes', labelsize=10)\n",
    "matplotlib.rc('axes', titlesize=10)\n",
    "sns.set_style('whitegrid')"
   ]
  },
  {
   "cell_type": "code",
   "execution_count": 44,
   "metadata": {
    "collapsed": false
   },
   "outputs": [],
   "source": [
    "%%add_conf_code_to_report\n",
    "\n",
    "if not os.path.exists(export_dir):\n",
    "    os.makedirs(export_dir)\n",
    "    \n",
    "def gen_report(conf_md,conf_code, md, code, filename):\n",
    "    ReportGeneration.write_report(conf_md, conf_code, md, code, report_name=filename)\n",
    "\n",
    "def translate_code_commands(cell, exported_cols, composite=False):    \n",
    "    new_code_store = []\n",
    "    exported_cols = [each for each in exported_cols if each!='']   \n",
    "    for each in exported_cols:       \n",
    "        w,x,y = each.split(',')\n",
    "        with open('log.txt','w') as fout:\n",
    "            fout.write('Processing call for the column {}'.format(each))\n",
    "        temp=cell[0]\n",
    "\n",
    "        new_line = temp.replace('interactive','apply').replace(\n",
    "            \"df=fixed(df)\",\"df\").replace(\"filename=fixed(filename)\",\"'\"+ReportMagic.var_files+\"'\").replace(\n",
    "            \"col1=w1\",\"'\"+w+\"'\").replace(\"col2=w2\",\"'\"+x+\"'\").replace(\"col3=w3\",\"'\"+y+\"'\").replace(\n",
    "            \"col3=fixed(w3)\",\"'\"+y+\"'\").replace(\n",
    "            \"Export=w_export\",\"False\").replace(\"conf_dict=fixed(conf_dict)\",\"conf_dict\")       \n",
    "        new_line = new_line.replace(\"df,\",\"[df,\")\n",
    "        new_line = new_line[:len(new_line)-1]+\"])\"\n",
    "        new_code_store.append(new_line)        \n",
    "    return new_code_store\n",
    "\n",
    "def add_to_report(section='', task=''):\n",
    "    print 'Section {}, Task {} added for report generation'.format(section ,task)\n",
    "\n",
    "def trigger_report(widgets,export_cols_file, output_report, no_widgets=1, md_text=''):\n",
    "    exported_cols = []\n",
    "    with open(export_cols_file,'r') as fin:\n",
    "        for each in fin:\n",
    "            each = each.strip()\n",
    "            if each and not each.isspace():\n",
    "                exported_cols.append(each)\n",
    "                \n",
    "    exported_cols = list(set(exported_cols))\n",
    "    conf_md, conf_code, md, code=%show_report \n",
    "    md = md_text\n",
    "    cell = code\n",
    "    new_code_store = translate_code_commands(cell,exported_cols)\n",
    "    gen_report(conf_md,conf_code, md, new_code_store, filename=export_dir+output_report)\n",
    "    \n",
    "def silentremove(filename):\n",
    "    try:\n",
    "        os.remove(filename)\n",
    "    except OSError as e: # this would be \"except OSError, e:\" before Python 2.6\n",
    "        if e.errno != errno.ENOENT: # errno.ENOENT = no such file or directory\n",
    "            raise # re-raise exception if a different error occured\n",
    "\n",
    "def handle_change(value):\n",
    "    w_export.value=False\n",
    "\n",
    "def getWidgetValue(w):\n",
    "    w_value = ''\n",
    "    try:\n",
    "        w_value = w.value\n",
    "    except:\n",
    "        pass    \n",
    "    return w_value\n",
    "\n",
    "def handle_export(widget, w1, w2, w3, export_filename='temp.ipynb',md_text=''):    \n",
    "    print 'handle_export called'\n",
    "    w1_value, w2_value, w3_value = \\\n",
    "        getWidgetValue(w1),getWidgetValue(w2),getWidgetValue(w3)\n",
    "    st = ','.join(str(each) for each in [w1_value, w2_value, w3_value])\n",
    "    with open(filename,'a') as fout:\n",
    "        fout.write(st+'\\n')\n",
    "    trigger_report(w1_value, filename, export_filename, False, md_text=md_text)  \n",
    "    \n",
    "            "
   ]
  },
  {
   "cell_type": "markdown",
   "metadata": {},
   "source": [
    "## <a name=\"read and summarize\"></a> Read and Summarize the Data"
   ]
  },
  {
   "cell_type": "markdown",
   "metadata": {},
   "source": [
    "### Read data and infer column types"
   ]
  },
  {
   "cell_type": "code",
   "execution_count": 45,
   "metadata": {
    "collapsed": false
   },
   "outputs": [
    {
     "data": {
      "text/html": [
       "<ul><li>Target variable is over_50k</li><li>Categorical Columns are workclass, \n",
       "sex, \n",
       "race, \n",
       "over_50k, \n",
       "occupation, \n",
       "marital_status, \n",
       "education_level, \n",
       "country</li><li>Numerical Columns are age, \n",
       "education_num, \n",
       "capital_gain, \n",
       "capital_loss, \n",
       "hours_week</li></ul>"
      ],
      "text/plain": [
       "<IPython.core.display.HTML object>"
      ]
     },
     "execution_count": 45,
     "metadata": {},
     "output_type": "execute_result"
    }
   ],
   "source": [
    "%%add_conf_code_to_report\n",
    "\n",
    "conf_dict = ConfUtility.parse_yaml(conf_file)\n",
    "\n",
    "# Read in data from local file or SQL server\n",
    "if 'DataSource' not in conf_dict:\n",
    "    df=pd.read_csv(conf_dict['DataFilePath'], skipinitialspace=True)\n",
    "else:\n",
    "    import pyodbc\n",
    "    cnxn = pyodbc.connect('driver=ODBC Driver 11 for SQL Server;server={};database={};Uid={};Pwd={}'.format(\n",
    "            conf_dict['Server'], conf_dict['Database'],conf_dict['Username'],conf_dict['Password']))\n",
    "    df = pd.read_sql(conf_dict['Query'],cnxn)\n",
    "\n",
    "# Making sure that we are not reading any extra column\n",
    "df = df[[each for each in df.columns if 'Unnamed' not in each]]\n",
    "\n",
    "# Sampling Data if data size is larger than 10k\n",
    "df0 = df # df0 is the unsampled data. Will be used in data exploration and analysis where sampling is not needed\n",
    "         # However, keep in mind that your final report will always be based on the sampled data. \n",
    "if Sample_Size < df.shape[0]:\n",
    "    df = df.sample(Sample_Size)\n",
    "\n",
    "# change float data types\n",
    "if 'FloatDataTypes' in conf_dict:   \n",
    "    for col_name in conf_dict['FloatDataTypes']:\n",
    "        df[col_name] = df[col_name].astype(float)      \n",
    "        \n",
    "# Getting the list of categorical columns if it was not there in the yaml file\n",
    "if 'CategoricalColumns' not in conf_dict:\n",
    "    conf_dict['CategoricalColumns'] = list(set(list(df.select_dtypes(exclude=[np.number]).columns)))\n",
    "\n",
    "# Getting the list of numerical columns if it was not there in the yaml file\n",
    "if 'NumericalColumns' not in conf_dict:\n",
    "    conf_dict['NumericalColumns'] = list(df.select_dtypes(include=[np.number]).columns)    \n",
    "\n",
    "# Exclude columns that we do not need\n",
    "if 'ColumnsToExclude' in conf_dict:\n",
    "    conf_dict['CategoricalColumns'] = list(set(conf_dict['CategoricalColumns'])-set(conf_dict['ColumnsToExclude']))\n",
    "    conf_dict['NumericalColumns'] = list(set(conf_dict['NumericalColumns'])-set(conf_dict['ColumnsToExclude']))\n",
    "\n",
    "# Ordering the categorical variables according to the number of unique categories\n",
    "filtered_cat_columns = []\n",
    "temp_dict = {}\n",
    "for cat_var in conf_dict['CategoricalColumns']:\n",
    "    temp_dict[cat_var] = len(np.unique(df[cat_var]))\n",
    "sorted_x = sorted(temp_dict.items(), key=operator.itemgetter(0), reverse=True)\n",
    "conf_dict['CategoricalColumns'] = [x for (x,y) in sorted_x]\n",
    "\n",
    "ConfUtility.dict_to_htmllist(conf_dict,['Target','CategoricalColumns','NumericalColumns'])"
   ]
  },
  {
   "cell_type": "markdown",
   "metadata": {},
   "source": [
    "### Print the first n (n=5 by default) rows of the data"
   ]
  },
  {
   "cell_type": "code",
   "execution_count": 46,
   "metadata": {
    "collapsed": false
   },
   "outputs": [
    {
     "data": {
      "text/html": [
       "\n",
       "        <style  type=\"text/css\" >\n",
       "        \n",
       "        \n",
       "        </style>\n",
       "\n",
       "        <table id=\"T_368f318f_e294_11e6_a781_ffc7c6577997\" class='table'>\n",
       "        \n",
       "\n",
       "        <thead>\n",
       "            \n",
       "            <tr>\n",
       "                \n",
       "                <th class=\"blank\">\n",
       "                \n",
       "                <th class=\"col_heading level0 col0\">id\n",
       "                \n",
       "                <th class=\"col_heading level0 col1\">age\n",
       "                \n",
       "                <th class=\"col_heading level0 col2\">workclass_id\n",
       "                \n",
       "                <th class=\"col_heading level0 col3\">education_level_id\n",
       "                \n",
       "                <th class=\"col_heading level0 col4\">education_num\n",
       "                \n",
       "                <th class=\"col_heading level0 col5\">marital_status_id\n",
       "                \n",
       "                <th class=\"col_heading level0 col6\">occupation_id\n",
       "                \n",
       "                <th class=\"col_heading level0 col7\">race_id\n",
       "                \n",
       "                <th class=\"col_heading level0 col8\">sex_id\n",
       "                \n",
       "                <th class=\"col_heading level0 col9\">capital_gain\n",
       "                \n",
       "                <th class=\"col_heading level0 col10\">capital_loss\n",
       "                \n",
       "                <th class=\"col_heading level0 col11\">hours_week\n",
       "                \n",
       "                <th class=\"col_heading level0 col12\">country_id\n",
       "                \n",
       "                <th class=\"col_heading level0 col13\">workclass\n",
       "                \n",
       "                <th class=\"col_heading level0 col14\">education_level\n",
       "                \n",
       "                <th class=\"col_heading level0 col15\">marital_status\n",
       "                \n",
       "                <th class=\"col_heading level0 col16\">occupation\n",
       "                \n",
       "                <th class=\"col_heading level0 col17\">race\n",
       "                \n",
       "                <th class=\"col_heading level0 col18\">sex\n",
       "                \n",
       "                <th class=\"col_heading level0 col19\">country\n",
       "                \n",
       "                <th class=\"col_heading level0 col20\">over_50k\n",
       "                \n",
       "            </tr>\n",
       "            \n",
       "        </thead>\n",
       "        <tbody>\n",
       "            \n",
       "            <tr>\n",
       "                \n",
       "                <th id=\"T_368f318f_e294_11e6_a781_ffc7c6577997\" class=\"row_heading level20 row0\">\n",
       "                    0\n",
       "                \n",
       "                <td id=\"T_368f318f_e294_11e6_a781_ffc7c6577997row0_col0\" class=\"data row0 col0\">\n",
       "                    11289\n",
       "                \n",
       "                <td id=\"T_368f318f_e294_11e6_a781_ffc7c6577997row0_col1\" class=\"data row0 col1\">\n",
       "                    22\n",
       "                \n",
       "                <td id=\"T_368f318f_e294_11e6_a781_ffc7c6577997row0_col2\" class=\"data row0 col2\">\n",
       "                    5\n",
       "                \n",
       "                <td id=\"T_368f318f_e294_11e6_a781_ffc7c6577997row0_col3\" class=\"data row0 col3\">\n",
       "                    16\n",
       "                \n",
       "                <td id=\"T_368f318f_e294_11e6_a781_ffc7c6577997row0_col4\" class=\"data row0 col4\">\n",
       "                    10\n",
       "                \n",
       "                <td id=\"T_368f318f_e294_11e6_a781_ffc7c6577997row0_col5\" class=\"data row0 col5\">\n",
       "                    5\n",
       "                \n",
       "                <td id=\"T_368f318f_e294_11e6_a781_ffc7c6577997row0_col6\" class=\"data row0 col6\">\n",
       "                    2\n",
       "                \n",
       "                <td id=\"T_368f318f_e294_11e6_a781_ffc7c6577997row0_col7\" class=\"data row0 col7\">\n",
       "                    3\n",
       "                \n",
       "                <td id=\"T_368f318f_e294_11e6_a781_ffc7c6577997row0_col8\" class=\"data row0 col8\">\n",
       "                    2\n",
       "                \n",
       "                <td id=\"T_368f318f_e294_11e6_a781_ffc7c6577997row0_col9\" class=\"data row0 col9\">\n",
       "                    0\n",
       "                \n",
       "                <td id=\"T_368f318f_e294_11e6_a781_ffc7c6577997row0_col10\" class=\"data row0 col10\">\n",
       "                    0\n",
       "                \n",
       "                <td id=\"T_368f318f_e294_11e6_a781_ffc7c6577997row0_col11\" class=\"data row0 col11\">\n",
       "                    30\n",
       "                \n",
       "                <td id=\"T_368f318f_e294_11e6_a781_ffc7c6577997row0_col12\" class=\"data row0 col12\">\n",
       "                    7\n",
       "                \n",
       "                <td id=\"T_368f318f_e294_11e6_a781_ffc7c6577997row0_col13\" class=\"data row0 col13\">\n",
       "                    Private\n",
       "                \n",
       "                <td id=\"T_368f318f_e294_11e6_a781_ffc7c6577997row0_col14\" class=\"data row0 col14\">\n",
       "                    Some-college\n",
       "                \n",
       "                <td id=\"T_368f318f_e294_11e6_a781_ffc7c6577997row0_col15\" class=\"data row0 col15\">\n",
       "                    Never-married\n",
       "                \n",
       "                <td id=\"T_368f318f_e294_11e6_a781_ffc7c6577997row0_col16\" class=\"data row0 col16\">\n",
       "                    Adm-clerical\n",
       "                \n",
       "                <td id=\"T_368f318f_e294_11e6_a781_ffc7c6577997row0_col17\" class=\"data row0 col17\">\n",
       "                    Black\n",
       "                \n",
       "                <td id=\"T_368f318f_e294_11e6_a781_ffc7c6577997row0_col18\" class=\"data row0 col18\">\n",
       "                    Male\n",
       "                \n",
       "                <td id=\"T_368f318f_e294_11e6_a781_ffc7c6577997row0_col19\" class=\"data row0 col19\">\n",
       "                    Dominican-Republic\n",
       "                \n",
       "                <td id=\"T_368f318f_e294_11e6_a781_ffc7c6577997row0_col20\" class=\"data row0 col20\">\n",
       "                    0\n",
       "                \n",
       "            </tr>\n",
       "            \n",
       "            <tr>\n",
       "                \n",
       "                <th id=\"T_368f318f_e294_11e6_a781_ffc7c6577997\" class=\"row_heading level20 row1\">\n",
       "                    1\n",
       "                \n",
       "                <td id=\"T_368f318f_e294_11e6_a781_ffc7c6577997row1_col0\" class=\"data row1 col0\">\n",
       "                    34529\n",
       "                \n",
       "                <td id=\"T_368f318f_e294_11e6_a781_ffc7c6577997row1_col1\" class=\"data row1 col1\">\n",
       "                    43\n",
       "                \n",
       "                <td id=\"T_368f318f_e294_11e6_a781_ffc7c6577997row1_col2\" class=\"data row1 col2\">\n",
       "                    8\n",
       "                \n",
       "                <td id=\"T_368f318f_e294_11e6_a781_ffc7c6577997row1_col3\" class=\"data row1 col3\">\n",
       "                    11\n",
       "                \n",
       "                <td id=\"T_368f318f_e294_11e6_a781_ffc7c6577997row1_col4\" class=\"data row1 col4\">\n",
       "                    16\n",
       "                \n",
       "                <td id=\"T_368f318f_e294_11e6_a781_ffc7c6577997row1_col5\" class=\"data row1 col5\">\n",
       "                    3\n",
       "                \n",
       "                <td id=\"T_368f318f_e294_11e6_a781_ffc7c6577997row1_col6\" class=\"data row1 col6\">\n",
       "                    11\n",
       "                \n",
       "                <td id=\"T_368f318f_e294_11e6_a781_ffc7c6577997row1_col7\" class=\"data row1 col7\">\n",
       "                    5\n",
       "                \n",
       "                <td id=\"T_368f318f_e294_11e6_a781_ffc7c6577997row1_col8\" class=\"data row1 col8\">\n",
       "                    1\n",
       "                \n",
       "                <td id=\"T_368f318f_e294_11e6_a781_ffc7c6577997row1_col9\" class=\"data row1 col9\">\n",
       "                    0\n",
       "                \n",
       "                <td id=\"T_368f318f_e294_11e6_a781_ffc7c6577997row1_col10\" class=\"data row1 col10\">\n",
       "                    0\n",
       "                \n",
       "                <td id=\"T_368f318f_e294_11e6_a781_ffc7c6577997row1_col11\" class=\"data row1 col11\">\n",
       "                    40\n",
       "                \n",
       "                <td id=\"T_368f318f_e294_11e6_a781_ffc7c6577997row1_col12\" class=\"data row1 col12\">\n",
       "                    40\n",
       "                \n",
       "                <td id=\"T_368f318f_e294_11e6_a781_ffc7c6577997row1_col13\" class=\"data row1 col13\">\n",
       "                    State-gov\n",
       "                \n",
       "                <td id=\"T_368f318f_e294_11e6_a781_ffc7c6577997row1_col14\" class=\"data row1 col14\">\n",
       "                    Doctorate\n",
       "                \n",
       "                <td id=\"T_368f318f_e294_11e6_a781_ffc7c6577997row1_col15\" class=\"data row1 col15\">\n",
       "                    Married-civ-spouse\n",
       "                \n",
       "                <td id=\"T_368f318f_e294_11e6_a781_ffc7c6577997row1_col16\" class=\"data row1 col16\">\n",
       "                    Prof-specialty\n",
       "                \n",
       "                <td id=\"T_368f318f_e294_11e6_a781_ffc7c6577997row1_col17\" class=\"data row1 col17\">\n",
       "                    White\n",
       "                \n",
       "                <td id=\"T_368f318f_e294_11e6_a781_ffc7c6577997row1_col18\" class=\"data row1 col18\">\n",
       "                    Female\n",
       "                \n",
       "                <td id=\"T_368f318f_e294_11e6_a781_ffc7c6577997row1_col19\" class=\"data row1 col19\">\n",
       "                    United-States\n",
       "                \n",
       "                <td id=\"T_368f318f_e294_11e6_a781_ffc7c6577997row1_col20\" class=\"data row1 col20\">\n",
       "                    1\n",
       "                \n",
       "            </tr>\n",
       "            \n",
       "            <tr>\n",
       "                \n",
       "                <th id=\"T_368f318f_e294_11e6_a781_ffc7c6577997\" class=\"row_heading level20 row2\">\n",
       "                    2\n",
       "                \n",
       "                <td id=\"T_368f318f_e294_11e6_a781_ffc7c6577997row2_col0\" class=\"data row2 col0\">\n",
       "                    28681\n",
       "                \n",
       "                <td id=\"T_368f318f_e294_11e6_a781_ffc7c6577997row2_col1\" class=\"data row2 col1\">\n",
       "                    45\n",
       "                \n",
       "                <td id=\"T_368f318f_e294_11e6_a781_ffc7c6577997row2_col2\" class=\"data row2 col2\">\n",
       "                    5\n",
       "                \n",
       "                <td id=\"T_368f318f_e294_11e6_a781_ffc7c6577997row2_col3\" class=\"data row2 col3\">\n",
       "                    10\n",
       "                \n",
       "                <td id=\"T_368f318f_e294_11e6_a781_ffc7c6577997row2_col4\" class=\"data row2 col4\">\n",
       "                    13\n",
       "                \n",
       "                <td id=\"T_368f318f_e294_11e6_a781_ffc7c6577997row2_col5\" class=\"data row2 col5\">\n",
       "                    3\n",
       "                \n",
       "                <td id=\"T_368f318f_e294_11e6_a781_ffc7c6577997row2_col6\" class=\"data row2 col6\">\n",
       "                    5\n",
       "                \n",
       "                <td id=\"T_368f318f_e294_11e6_a781_ffc7c6577997row2_col7\" class=\"data row2 col7\">\n",
       "                    5\n",
       "                \n",
       "                <td id=\"T_368f318f_e294_11e6_a781_ffc7c6577997row2_col8\" class=\"data row2 col8\">\n",
       "                    1\n",
       "                \n",
       "                <td id=\"T_368f318f_e294_11e6_a781_ffc7c6577997row2_col9\" class=\"data row2 col9\">\n",
       "                    0\n",
       "                \n",
       "                <td id=\"T_368f318f_e294_11e6_a781_ffc7c6577997row2_col10\" class=\"data row2 col10\">\n",
       "                    0\n",
       "                \n",
       "                <td id=\"T_368f318f_e294_11e6_a781_ffc7c6577997row2_col11\" class=\"data row2 col11\">\n",
       "                    40\n",
       "                \n",
       "                <td id=\"T_368f318f_e294_11e6_a781_ffc7c6577997row2_col12\" class=\"data row2 col12\">\n",
       "                    40\n",
       "                \n",
       "                <td id=\"T_368f318f_e294_11e6_a781_ffc7c6577997row2_col13\" class=\"data row2 col13\">\n",
       "                    Private\n",
       "                \n",
       "                <td id=\"T_368f318f_e294_11e6_a781_ffc7c6577997row2_col14\" class=\"data row2 col14\">\n",
       "                    Bachelors\n",
       "                \n",
       "                <td id=\"T_368f318f_e294_11e6_a781_ffc7c6577997row2_col15\" class=\"data row2 col15\">\n",
       "                    Married-civ-spouse\n",
       "                \n",
       "                <td id=\"T_368f318f_e294_11e6_a781_ffc7c6577997row2_col16\" class=\"data row2 col16\">\n",
       "                    Exec-managerial\n",
       "                \n",
       "                <td id=\"T_368f318f_e294_11e6_a781_ffc7c6577997row2_col17\" class=\"data row2 col17\">\n",
       "                    White\n",
       "                \n",
       "                <td id=\"T_368f318f_e294_11e6_a781_ffc7c6577997row2_col18\" class=\"data row2 col18\">\n",
       "                    Female\n",
       "                \n",
       "                <td id=\"T_368f318f_e294_11e6_a781_ffc7c6577997row2_col19\" class=\"data row2 col19\">\n",
       "                    United-States\n",
       "                \n",
       "                <td id=\"T_368f318f_e294_11e6_a781_ffc7c6577997row2_col20\" class=\"data row2 col20\">\n",
       "                    1\n",
       "                \n",
       "            </tr>\n",
       "            \n",
       "            <tr>\n",
       "                \n",
       "                <th id=\"T_368f318f_e294_11e6_a781_ffc7c6577997\" class=\"row_heading level20 row3\">\n",
       "                    3\n",
       "                \n",
       "                <td id=\"T_368f318f_e294_11e6_a781_ffc7c6577997row3_col0\" class=\"data row3 col0\">\n",
       "                    21496\n",
       "                \n",
       "                <td id=\"T_368f318f_e294_11e6_a781_ffc7c6577997row3_col1\" class=\"data row3 col1\">\n",
       "                    41\n",
       "                \n",
       "                <td id=\"T_368f318f_e294_11e6_a781_ffc7c6577997row3_col2\" class=\"data row3 col2\">\n",
       "                    5\n",
       "                \n",
       "                <td id=\"T_368f318f_e294_11e6_a781_ffc7c6577997row3_col3\" class=\"data row3 col3\">\n",
       "                    12\n",
       "                \n",
       "                <td id=\"T_368f318f_e294_11e6_a781_ffc7c6577997row3_col4\" class=\"data row3 col4\">\n",
       "                    9\n",
       "                \n",
       "                <td id=\"T_368f318f_e294_11e6_a781_ffc7c6577997row3_col5\" class=\"data row3 col5\">\n",
       "                    3\n",
       "                \n",
       "                <td id=\"T_368f318f_e294_11e6_a781_ffc7c6577997row3_col6\" class=\"data row3 col6\">\n",
       "                    4\n",
       "                \n",
       "                <td id=\"T_368f318f_e294_11e6_a781_ffc7c6577997row3_col7\" class=\"data row3 col7\">\n",
       "                    5\n",
       "                \n",
       "                <td id=\"T_368f318f_e294_11e6_a781_ffc7c6577997row3_col8\" class=\"data row3 col8\">\n",
       "                    2\n",
       "                \n",
       "                <td id=\"T_368f318f_e294_11e6_a781_ffc7c6577997row3_col9\" class=\"data row3 col9\">\n",
       "                    0\n",
       "                \n",
       "                <td id=\"T_368f318f_e294_11e6_a781_ffc7c6577997row3_col10\" class=\"data row3 col10\">\n",
       "                    0\n",
       "                \n",
       "                <td id=\"T_368f318f_e294_11e6_a781_ffc7c6577997row3_col11\" class=\"data row3 col11\">\n",
       "                    45\n",
       "                \n",
       "                <td id=\"T_368f318f_e294_11e6_a781_ffc7c6577997row3_col12\" class=\"data row3 col12\">\n",
       "                    40\n",
       "                \n",
       "                <td id=\"T_368f318f_e294_11e6_a781_ffc7c6577997row3_col13\" class=\"data row3 col13\">\n",
       "                    Private\n",
       "                \n",
       "                <td id=\"T_368f318f_e294_11e6_a781_ffc7c6577997row3_col14\" class=\"data row3 col14\">\n",
       "                    HS-grad\n",
       "                \n",
       "                <td id=\"T_368f318f_e294_11e6_a781_ffc7c6577997row3_col15\" class=\"data row3 col15\">\n",
       "                    Married-civ-spouse\n",
       "                \n",
       "                <td id=\"T_368f318f_e294_11e6_a781_ffc7c6577997row3_col16\" class=\"data row3 col16\">\n",
       "                    Craft-repair\n",
       "                \n",
       "                <td id=\"T_368f318f_e294_11e6_a781_ffc7c6577997row3_col17\" class=\"data row3 col17\">\n",
       "                    White\n",
       "                \n",
       "                <td id=\"T_368f318f_e294_11e6_a781_ffc7c6577997row3_col18\" class=\"data row3 col18\">\n",
       "                    Male\n",
       "                \n",
       "                <td id=\"T_368f318f_e294_11e6_a781_ffc7c6577997row3_col19\" class=\"data row3 col19\">\n",
       "                    United-States\n",
       "                \n",
       "                <td id=\"T_368f318f_e294_11e6_a781_ffc7c6577997row3_col20\" class=\"data row3 col20\">\n",
       "                    0\n",
       "                \n",
       "            </tr>\n",
       "            \n",
       "            <tr>\n",
       "                \n",
       "                <th id=\"T_368f318f_e294_11e6_a781_ffc7c6577997\" class=\"row_heading level20 row4\">\n",
       "                    4\n",
       "                \n",
       "                <td id=\"T_368f318f_e294_11e6_a781_ffc7c6577997row4_col0\" class=\"data row4 col0\">\n",
       "                    27291\n",
       "                \n",
       "                <td id=\"T_368f318f_e294_11e6_a781_ffc7c6577997row4_col1\" class=\"data row4 col1\">\n",
       "                    56\n",
       "                \n",
       "                <td id=\"T_368f318f_e294_11e6_a781_ffc7c6577997row4_col2\" class=\"data row4 col2\">\n",
       "                    5\n",
       "                \n",
       "                <td id=\"T_368f318f_e294_11e6_a781_ffc7c6577997row4_col3\" class=\"data row4 col3\">\n",
       "                    12\n",
       "                \n",
       "                <td id=\"T_368f318f_e294_11e6_a781_ffc7c6577997row4_col4\" class=\"data row4 col4\">\n",
       "                    9\n",
       "                \n",
       "                <td id=\"T_368f318f_e294_11e6_a781_ffc7c6577997row4_col5\" class=\"data row4 col5\">\n",
       "                    3\n",
       "                \n",
       "                <td id=\"T_368f318f_e294_11e6_a781_ffc7c6577997row4_col6\" class=\"data row4 col6\">\n",
       "                    5\n",
       "                \n",
       "                <td id=\"T_368f318f_e294_11e6_a781_ffc7c6577997row4_col7\" class=\"data row4 col7\">\n",
       "                    5\n",
       "                \n",
       "                <td id=\"T_368f318f_e294_11e6_a781_ffc7c6577997row4_col8\" class=\"data row4 col8\">\n",
       "                    2\n",
       "                \n",
       "                <td id=\"T_368f318f_e294_11e6_a781_ffc7c6577997row4_col9\" class=\"data row4 col9\">\n",
       "                    0\n",
       "                \n",
       "                <td id=\"T_368f318f_e294_11e6_a781_ffc7c6577997row4_col10\" class=\"data row4 col10\">\n",
       "                    0\n",
       "                \n",
       "                <td id=\"T_368f318f_e294_11e6_a781_ffc7c6577997row4_col11\" class=\"data row4 col11\">\n",
       "                    40\n",
       "                \n",
       "                <td id=\"T_368f318f_e294_11e6_a781_ffc7c6577997row4_col12\" class=\"data row4 col12\">\n",
       "                    40\n",
       "                \n",
       "                <td id=\"T_368f318f_e294_11e6_a781_ffc7c6577997row4_col13\" class=\"data row4 col13\">\n",
       "                    Private\n",
       "                \n",
       "                <td id=\"T_368f318f_e294_11e6_a781_ffc7c6577997row4_col14\" class=\"data row4 col14\">\n",
       "                    HS-grad\n",
       "                \n",
       "                <td id=\"T_368f318f_e294_11e6_a781_ffc7c6577997row4_col15\" class=\"data row4 col15\">\n",
       "                    Married-civ-spouse\n",
       "                \n",
       "                <td id=\"T_368f318f_e294_11e6_a781_ffc7c6577997row4_col16\" class=\"data row4 col16\">\n",
       "                    Exec-managerial\n",
       "                \n",
       "                <td id=\"T_368f318f_e294_11e6_a781_ffc7c6577997row4_col17\" class=\"data row4 col17\">\n",
       "                    White\n",
       "                \n",
       "                <td id=\"T_368f318f_e294_11e6_a781_ffc7c6577997row4_col18\" class=\"data row4 col18\">\n",
       "                    Male\n",
       "                \n",
       "                <td id=\"T_368f318f_e294_11e6_a781_ffc7c6577997row4_col19\" class=\"data row4 col19\">\n",
       "                    United-States\n",
       "                \n",
       "                <td id=\"T_368f318f_e294_11e6_a781_ffc7c6577997row4_col20\" class=\"data row4 col20\">\n",
       "                    1\n",
       "                \n",
       "            </tr>\n",
       "            \n",
       "        </tbody>\n",
       "        </table>\n",
       "        "
      ],
      "text/plain": [
       "<IPython.core.display.HTML object>"
      ]
     },
     "metadata": {},
     "output_type": "display_data"
    }
   ],
   "source": [
    "%%add_conf_code_to_report\n",
    "def custom_head(df,NoOfRows):\n",
    "    return HTML(df.head(NoOfRows).style.set_table_attributes(\"class='table'\").render())\n",
    "i = interact(custom_head,df=fixed(df0), NoOfRows=ipywidgets.IntSlider(min=0, max=30, step=1, \\\n",
    "                                                                     value=5, description='Number of Rows'))"
   ]
  },
  {
   "cell_type": "markdown",
   "metadata": {
    "collapsed": false
   },
   "source": [
    "### Print the dimensions of the data (rows, columns)"
   ]
  },
  {
   "cell_type": "code",
   "execution_count": 47,
   "metadata": {
    "collapsed": false,
    "scrolled": false
   },
   "outputs": [
    {
     "name": "stdout",
     "output_type": "stream",
     "text": [
      "The data has 29305 Rows and 21 columns\n"
     ]
    }
   ],
   "source": [
    "%%add_conf_code_to_report\n",
    "print 'The data has {} Rows and {} columns'.format(df0.shape[0],df0.shape[1])"
   ]
  },
  {
   "cell_type": "markdown",
   "metadata": {
    "collapsed": false
   },
   "source": [
    "### Print the column names of the data"
   ]
  },
  {
   "cell_type": "code",
   "execution_count": 48,
   "metadata": {
    "collapsed": false,
    "scrolled": false
   },
   "outputs": [
    {
     "name": "stdout",
     "output_type": "stream",
     "text": [
      "The column names are:id,age,workclass_id,education_level_id,education_num,marital_status_id,occupation_id,race_id,sex_id,capital_gain,capital_loss,hours_week,country_id,workclass,education_level,marital_status,occupation,race,sex,country,over_50k\n"
     ]
    }
   ],
   "source": [
    "%%add_conf_code_to_report\n",
    "col_names = ','.join(each for each in list(df.columns))\n",
    "print(\"The column names are:\" + col_names)"
   ]
  },
  {
   "cell_type": "markdown",
   "metadata": {
    "collapsed": true
   },
   "source": [
    "### Print the column types"
   ]
  },
  {
   "cell_type": "code",
   "execution_count": 49,
   "metadata": {
    "collapsed": false,
    "scrolled": false
   },
   "outputs": [
    {
     "name": "stdout",
     "output_type": "stream",
     "text": [
      "The types of columns are:\n"
     ]
    },
    {
     "data": {
      "text/plain": [
       "id                     int64\n",
       "age                    int64\n",
       "workclass_id           int64\n",
       "education_level_id     int64\n",
       "education_num          int64\n",
       "marital_status_id      int64\n",
       "occupation_id          int64\n",
       "race_id                int64\n",
       "sex_id                 int64\n",
       "capital_gain           int64\n",
       "capital_loss           int64\n",
       "hours_week             int64\n",
       "country_id             int64\n",
       "workclass             object\n",
       "education_level       object\n",
       "marital_status        object\n",
       "occupation            object\n",
       "race                  object\n",
       "sex                   object\n",
       "country               object\n",
       "over_50k               int64\n",
       "dtype: object"
      ]
     },
     "execution_count": 49,
     "metadata": {},
     "output_type": "execute_result"
    }
   ],
   "source": [
    "%%add_conf_code_to_report\n",
    "print(\"The types of columns are:\")\n",
    "df.dtypes"
   ]
  },
  {
   "cell_type": "markdown",
   "metadata": {},
   "source": [
    "## <a name=\"individual variable\"></a>Extract Descriptive Statistics of Each Column"
   ]
  },
  {
   "cell_type": "code",
   "execution_count": 50,
   "metadata": {
    "collapsed": false
   },
   "outputs": [],
   "source": [
    "%%add_conf_code_to_report\n",
    "def num_missing(x):\n",
    "    return len(x.index)-x.count()\n",
    "\n",
    "def num_unique(x):\n",
    "    return len(np.unique(x))\n",
    "\n",
    "temp_df = df0.describe().T\n",
    "missing_df = pd.DataFrame(df0.apply(num_missing, axis=0)) \n",
    "missing_df.columns = ['missing']\n",
    "unq_df = pd.DataFrame(df0.apply(num_unique, axis=0))\n",
    "unq_df.columns = ['unique']\n",
    "types_df = pd.DataFrame(df0.dtypes)\n",
    "types_df.columns = ['DataType']"
   ]
  },
  {
   "cell_type": "markdown",
   "metadata": {},
   "source": [
    "### Print the descriptive statistics of numerical columns"
   ]
  },
  {
   "cell_type": "code",
   "execution_count": 51,
   "metadata": {
    "collapsed": false
   },
   "outputs": [
    {
     "data": {
      "text/html": [
       "<div>\n",
       "<table border=\"1\" class=\"dataframe\">\n",
       "  <thead>\n",
       "    <tr style=\"text-align: right;\">\n",
       "      <th></th>\n",
       "      <th>count</th>\n",
       "      <th>mean</th>\n",
       "      <th>std</th>\n",
       "      <th>min</th>\n",
       "      <th>25%</th>\n",
       "      <th>50%</th>\n",
       "      <th>75%</th>\n",
       "      <th>max</th>\n",
       "      <th>missing</th>\n",
       "      <th>unique</th>\n",
       "      <th>DataType</th>\n",
       "    </tr>\n",
       "  </thead>\n",
       "  <tbody>\n",
       "    <tr>\n",
       "      <th>id</th>\n",
       "      <td>29305.0</td>\n",
       "      <td>24550.842314</td>\n",
       "      <td>14092.528794</td>\n",
       "      <td>2.0</td>\n",
       "      <td>12394.0</td>\n",
       "      <td>24551.0</td>\n",
       "      <td>36763.0</td>\n",
       "      <td>48840.0</td>\n",
       "      <td>0</td>\n",
       "      <td>29305</td>\n",
       "      <td>int64</td>\n",
       "    </tr>\n",
       "    <tr>\n",
       "      <th>age</th>\n",
       "      <td>29305.0</td>\n",
       "      <td>38.695444</td>\n",
       "      <td>13.723411</td>\n",
       "      <td>17.0</td>\n",
       "      <td>28.0</td>\n",
       "      <td>37.0</td>\n",
       "      <td>48.0</td>\n",
       "      <td>90.0</td>\n",
       "      <td>0</td>\n",
       "      <td>74</td>\n",
       "      <td>int64</td>\n",
       "    </tr>\n",
       "    <tr>\n",
       "      <th>workclass_id</th>\n",
       "      <td>29305.0</td>\n",
       "      <td>4.867941</td>\n",
       "      <td>1.469535</td>\n",
       "      <td>1.0</td>\n",
       "      <td>5.0</td>\n",
       "      <td>5.0</td>\n",
       "      <td>5.0</td>\n",
       "      <td>9.0</td>\n",
       "      <td>0</td>\n",
       "      <td>9</td>\n",
       "      <td>int64</td>\n",
       "    </tr>\n",
       "    <tr>\n",
       "      <th>education_level_id</th>\n",
       "      <td>29305.0</td>\n",
       "      <td>11.281727</td>\n",
       "      <td>3.873239</td>\n",
       "      <td>1.0</td>\n",
       "      <td>10.0</td>\n",
       "      <td>12.0</td>\n",
       "      <td>13.0</td>\n",
       "      <td>16.0</td>\n",
       "      <td>0</td>\n",
       "      <td>16</td>\n",
       "      <td>int64</td>\n",
       "    </tr>\n",
       "    <tr>\n",
       "      <th>education_num</th>\n",
       "      <td>29305.0</td>\n",
       "      <td>10.081283</td>\n",
       "      <td>2.577030</td>\n",
       "      <td>1.0</td>\n",
       "      <td>9.0</td>\n",
       "      <td>10.0</td>\n",
       "      <td>12.0</td>\n",
       "      <td>16.0</td>\n",
       "      <td>0</td>\n",
       "      <td>16</td>\n",
       "      <td>int64</td>\n",
       "    </tr>\n",
       "    <tr>\n",
       "      <th>marital_status_id</th>\n",
       "      <td>29305.0</td>\n",
       "      <td>3.616618</td>\n",
       "      <td>1.512886</td>\n",
       "      <td>1.0</td>\n",
       "      <td>3.0</td>\n",
       "      <td>3.0</td>\n",
       "      <td>5.0</td>\n",
       "      <td>7.0</td>\n",
       "      <td>0</td>\n",
       "      <td>7</td>\n",
       "      <td>int64</td>\n",
       "    </tr>\n",
       "    <tr>\n",
       "      <th>occupation_id</th>\n",
       "      <td>29305.0</td>\n",
       "      <td>7.570824</td>\n",
       "      <td>4.228902</td>\n",
       "      <td>1.0</td>\n",
       "      <td>4.0</td>\n",
       "      <td>8.0</td>\n",
       "      <td>11.0</td>\n",
       "      <td>15.0</td>\n",
       "      <td>0</td>\n",
       "      <td>15</td>\n",
       "      <td>int64</td>\n",
       "    </tr>\n",
       "    <tr>\n",
       "      <th>race_id</th>\n",
       "      <td>29305.0</td>\n",
       "      <td>4.666542</td>\n",
       "      <td>0.847614</td>\n",
       "      <td>1.0</td>\n",
       "      <td>5.0</td>\n",
       "      <td>5.0</td>\n",
       "      <td>5.0</td>\n",
       "      <td>5.0</td>\n",
       "      <td>0</td>\n",
       "      <td>5</td>\n",
       "      <td>int64</td>\n",
       "    </tr>\n",
       "    <tr>\n",
       "      <th>sex_id</th>\n",
       "      <td>29305.0</td>\n",
       "      <td>1.665996</td>\n",
       "      <td>0.471649</td>\n",
       "      <td>1.0</td>\n",
       "      <td>1.0</td>\n",
       "      <td>2.0</td>\n",
       "      <td>2.0</td>\n",
       "      <td>2.0</td>\n",
       "      <td>0</td>\n",
       "      <td>2</td>\n",
       "      <td>int64</td>\n",
       "    </tr>\n",
       "    <tr>\n",
       "      <th>capital_gain</th>\n",
       "      <td>29305.0</td>\n",
       "      <td>1123.151203</td>\n",
       "      <td>7652.925099</td>\n",
       "      <td>0.0</td>\n",
       "      <td>0.0</td>\n",
       "      <td>0.0</td>\n",
       "      <td>0.0</td>\n",
       "      <td>99999.0</td>\n",
       "      <td>0</td>\n",
       "      <td>117</td>\n",
       "      <td>int64</td>\n",
       "    </tr>\n",
       "    <tr>\n",
       "      <th>capital_loss</th>\n",
       "      <td>29305.0</td>\n",
       "      <td>86.823170</td>\n",
       "      <td>401.457657</td>\n",
       "      <td>0.0</td>\n",
       "      <td>0.0</td>\n",
       "      <td>0.0</td>\n",
       "      <td>0.0</td>\n",
       "      <td>4356.0</td>\n",
       "      <td>0</td>\n",
       "      <td>89</td>\n",
       "      <td>int64</td>\n",
       "    </tr>\n",
       "    <tr>\n",
       "      <th>hours_week</th>\n",
       "      <td>29305.0</td>\n",
       "      <td>40.370858</td>\n",
       "      <td>12.401778</td>\n",
       "      <td>1.0</td>\n",
       "      <td>40.0</td>\n",
       "      <td>40.0</td>\n",
       "      <td>45.0</td>\n",
       "      <td>99.0</td>\n",
       "      <td>0</td>\n",
       "      <td>92</td>\n",
       "      <td>int64</td>\n",
       "    </tr>\n",
       "    <tr>\n",
       "      <th>country_id</th>\n",
       "      <td>29305.0</td>\n",
       "      <td>37.759085</td>\n",
       "      <td>7.764943</td>\n",
       "      <td>1.0</td>\n",
       "      <td>40.0</td>\n",
       "      <td>40.0</td>\n",
       "      <td>40.0</td>\n",
       "      <td>42.0</td>\n",
       "      <td>0</td>\n",
       "      <td>41</td>\n",
       "      <td>int64</td>\n",
       "    </tr>\n",
       "    <tr>\n",
       "      <th>over_50k</th>\n",
       "      <td>29305.0</td>\n",
       "      <td>0.239277</td>\n",
       "      <td>0.426649</td>\n",
       "      <td>0.0</td>\n",
       "      <td>0.0</td>\n",
       "      <td>0.0</td>\n",
       "      <td>0.0</td>\n",
       "      <td>1.0</td>\n",
       "      <td>0</td>\n",
       "      <td>2</td>\n",
       "      <td>int64</td>\n",
       "    </tr>\n",
       "  </tbody>\n",
       "</table>\n",
       "</div>"
      ],
      "text/plain": [
       "                      count          mean           std   min      25%  \\\n",
       "id                  29305.0  24550.842314  14092.528794   2.0  12394.0   \n",
       "age                 29305.0     38.695444     13.723411  17.0     28.0   \n",
       "workclass_id        29305.0      4.867941      1.469535   1.0      5.0   \n",
       "education_level_id  29305.0     11.281727      3.873239   1.0     10.0   \n",
       "education_num       29305.0     10.081283      2.577030   1.0      9.0   \n",
       "marital_status_id   29305.0      3.616618      1.512886   1.0      3.0   \n",
       "occupation_id       29305.0      7.570824      4.228902   1.0      4.0   \n",
       "race_id             29305.0      4.666542      0.847614   1.0      5.0   \n",
       "sex_id              29305.0      1.665996      0.471649   1.0      1.0   \n",
       "capital_gain        29305.0   1123.151203   7652.925099   0.0      0.0   \n",
       "capital_loss        29305.0     86.823170    401.457657   0.0      0.0   \n",
       "hours_week          29305.0     40.370858     12.401778   1.0     40.0   \n",
       "country_id          29305.0     37.759085      7.764943   1.0     40.0   \n",
       "over_50k            29305.0      0.239277      0.426649   0.0      0.0   \n",
       "\n",
       "                        50%      75%      max  missing  unique DataType  \n",
       "id                  24551.0  36763.0  48840.0        0   29305    int64  \n",
       "age                    37.0     48.0     90.0        0      74    int64  \n",
       "workclass_id            5.0      5.0      9.0        0       9    int64  \n",
       "education_level_id     12.0     13.0     16.0        0      16    int64  \n",
       "education_num          10.0     12.0     16.0        0      16    int64  \n",
       "marital_status_id       3.0      5.0      7.0        0       7    int64  \n",
       "occupation_id           8.0     11.0     15.0        0      15    int64  \n",
       "race_id                 5.0      5.0      5.0        0       5    int64  \n",
       "sex_id                  2.0      2.0      2.0        0       2    int64  \n",
       "capital_gain            0.0      0.0  99999.0        0     117    int64  \n",
       "capital_loss            0.0      0.0   4356.0        0      89    int64  \n",
       "hours_week             40.0     45.0     99.0        0      92    int64  \n",
       "country_id             40.0     40.0     42.0        0      41    int64  \n",
       "over_50k                0.0      0.0      1.0        0       2    int64  "
      ]
     },
     "execution_count": 51,
     "metadata": {},
     "output_type": "execute_result"
    }
   ],
   "source": [
    "%%add_conf_code_to_report\n",
    "summary_df = temp_df.join(missing_df).join(unq_df).join(types_df)\n",
    "summary_df"
   ]
  },
  {
   "cell_type": "markdown",
   "metadata": {},
   "source": [
    "### Print the descriptive statistics of categorical columns"
   ]
  },
  {
   "cell_type": "code",
   "execution_count": 52,
   "metadata": {
    "collapsed": false
   },
   "outputs": [
    {
     "data": {
      "text/html": [
       "<div>\n",
       "<table border=\"1\" class=\"dataframe\">\n",
       "  <thead>\n",
       "    <tr style=\"text-align: right;\">\n",
       "      <th></th>\n",
       "      <th>missing</th>\n",
       "      <th>unique</th>\n",
       "      <th>DataType</th>\n",
       "    </tr>\n",
       "  </thead>\n",
       "  <tbody>\n",
       "    <tr>\n",
       "      <th>workclass</th>\n",
       "      <td>0</td>\n",
       "      <td>9</td>\n",
       "      <td>object</td>\n",
       "    </tr>\n",
       "    <tr>\n",
       "      <th>education_level</th>\n",
       "      <td>0</td>\n",
       "      <td>16</td>\n",
       "      <td>object</td>\n",
       "    </tr>\n",
       "    <tr>\n",
       "      <th>marital_status</th>\n",
       "      <td>0</td>\n",
       "      <td>7</td>\n",
       "      <td>object</td>\n",
       "    </tr>\n",
       "    <tr>\n",
       "      <th>occupation</th>\n",
       "      <td>0</td>\n",
       "      <td>15</td>\n",
       "      <td>object</td>\n",
       "    </tr>\n",
       "    <tr>\n",
       "      <th>race</th>\n",
       "      <td>0</td>\n",
       "      <td>5</td>\n",
       "      <td>object</td>\n",
       "    </tr>\n",
       "    <tr>\n",
       "      <th>sex</th>\n",
       "      <td>0</td>\n",
       "      <td>2</td>\n",
       "      <td>object</td>\n",
       "    </tr>\n",
       "    <tr>\n",
       "      <th>country</th>\n",
       "      <td>0</td>\n",
       "      <td>41</td>\n",
       "      <td>object</td>\n",
       "    </tr>\n",
       "    <tr>\n",
       "      <th>over_50k</th>\n",
       "      <td>0</td>\n",
       "      <td>2</td>\n",
       "      <td>int64</td>\n",
       "    </tr>\n",
       "  </tbody>\n",
       "</table>\n",
       "</div>"
      ],
      "text/plain": [
       "                 missing  unique DataType\n",
       "workclass              0       9   object\n",
       "education_level        0      16   object\n",
       "marital_status         0       7   object\n",
       "occupation             0      15   object\n",
       "race                   0       5   object\n",
       "sex                    0       2   object\n",
       "country                0      41   object\n",
       "over_50k               0       2    int64"
      ]
     },
     "execution_count": 52,
     "metadata": {},
     "output_type": "execute_result"
    }
   ],
   "source": [
    "%%add_conf_code_to_report\n",
    "col_names = list(types_df.index) #Get all col names\n",
    "num_cols = len(col_names)\n",
    "index = range(num_cols)\n",
    "cat_index = []\n",
    "for i in index: #Find the indices of columns in Categorical columns\n",
    "    if col_names[i] in conf_dict['CategoricalColumns']:\n",
    "        cat_index.append(i)\n",
    "summary_df_cat = missing_df.join(unq_df).join(types_df.iloc[cat_index], how='inner') #Only summarize categorical columns\n",
    "summary_df_cat"
   ]
  },
  {
   "cell_type": "markdown",
   "metadata": {},
   "source": [
    "## <a name=\"individual variables\"></a>Explore Individual Variables"
   ]
  },
  {
   "cell_type": "markdown",
   "metadata": {},
   "source": [
    "### Explore the target variable"
   ]
  },
  {
   "cell_type": "code",
   "execution_count": 53,
   "metadata": {
    "collapsed": false
   },
   "outputs": [
    {
     "data": {
      "image/png": "[encoded data removed]",
      "text/plain": [
       "<matplotlib.figure.Figure at 0xccb0978>"
      ]
     },
     "metadata": {},
     "output_type": "display_data"
    },
    {
     "name": "stdout",
     "output_type": "stream",
     "text": [
      "handle_export called\n"
     ]
    },
    {
     "name": "stderr",
     "output_type": "stream",
     "text": [
      "C:\\Users\\Doug\\Anaconda2\\lib\\site-packages\\nbformat\\current.py:19: UserWarning: nbformat.current is deprecated.\n",
      "\n",
      "- use nbformat for read/write/validate public API\n",
      "- use nbformat.vX directly to composing notebooks of a particular version\n",
      "\n",
      "  \"\"\")\n"
     ]
    }
   ],
   "source": [
    "md_text = '## Target Variable'\n",
    "filename = 'tmp/target_variables.csv'\n",
    "export_filename = 'target_report2.ipynb'\n",
    "\n",
    "if conf_dict['Target'] in conf_dict['CategoricalColumns']:\n",
    "    w1_value,w2_value,w3_value = '','',''\n",
    "    w1, w2, w3, w4 = None, None, None, None\n",
    "    silentremove(filename)    \n",
    "    w1 = widgets.Dropdown(\n",
    "        options=[conf_dict['Target']],\n",
    "        value=conf_dict['Target'],\n",
    "        description='Target Variable:',\n",
    "    )\n",
    "\n",
    "    ReportMagic.var_files = filename\n",
    "    w_export = widgets.Button(description='Export', value='Export')\n",
    "    handle_export_partial = partial(handle_export, w1=w1, w2=w2, w3=w3, export_filename=export_filename, md_text=md_text)      \n",
    "    w1.observe(handle_change,'value')\n",
    "    w_export.on_click(handle_export_partial)\n",
    "\n",
    "    %reset_report\n",
    "    %add_interaction_code_to_report i = interactive(TargetAnalytics.custom_barplot, df=fixed(df), \\\n",
    "                                                    filename=fixed(filename), col1=w1, Export=w_export)\n",
    "    hbox = widgets.HBox(i.children)\n",
    "    display(hbox)\n",
    "    hbox.on_displayed(TargetAnalytics.custom_barplot(df=df0, filename=filename, col1=w1.value, Export=w_export))\n",
    "else:\n",
    "    w1_value, w2_value, w3_value = '', '', ''\n",
    "    w1, w2, w3, w4 = None, None, None, None\n",
    "    silentremove(filename) \n",
    "    w1 = widgets.Dropdown(\n",
    "            options=[conf_dict['Target']],\n",
    "            value=conf_dict['Target'],\n",
    "            description='Target Variable:',\n",
    "        )\n",
    "    w_export = widgets.Button(description='Export', value='Export')\n",
    "    handle_export_partial = partial(handle_export, w1=w1, w2=w2, w3=w3, export_filename=export_filename, md_text=md_text)       \n",
    "    w1.observe(handle_change,'value')\n",
    "    w_export.on_click(handle_export_partial)\n",
    "\n",
    "    %reset_report\n",
    "    %add_interaction_code_to_report i = interactive(NumericAnalytics.custom_barplot, df=fixed(df), filename=fixed(filename),\\\n",
    "                                                    col1=w1, Export=w_export)\n",
    "    hbox = widgets.HBox(i.children)\n",
    "    display(hbox)\n",
    "    hbox.on_displayed(NumericAnalytics.custom_barplot(df=df, filename=filename, col1=w1.value, Export=w_export))"
   ]
  },
  {
   "cell_type": "markdown",
   "metadata": {},
   "source": [
    "### Explore individual numeric variables and test for normality (on sampled data)"
   ]
  },
  {
   "cell_type": "code",
   "execution_count": 54,
   "metadata": {
    "collapsed": false
   },
   "outputs": [
    {
     "data": {
      "image/png": "[encoded data removed]",
      "text/plain": [
       "<matplotlib.figure.Figure at 0xd21acc0>"
      ]
     },
     "metadata": {},
     "output_type": "display_data"
    }
   ],
   "source": [
    "md_text = '## Visualize Individual Numerical Variables (on Sampled Data)'\n",
    "filename = ReportMagic.var_files='tmp/numeric_variables.csv'\n",
    "export_filename = 'numeric_report2.ipynb'\n",
    "w1_value, w2_value, w3_value = '', '', ''\n",
    "w1, w2, w3, w4 = None, None, None, None\n",
    "silentremove(filename) \n",
    "w1 = widgets.Dropdown(\n",
    "        options=conf_dict['NumericalColumns'],\n",
    "        value=conf_dict['NumericalColumns'][0],\n",
    "        description='Numeric Variable:',\n",
    "    )\n",
    "w_export = widgets.Button(description='Export', value='Export')\n",
    "handle_export_partial = partial(handle_export, w1=w1, w2=w2, w3=w3, export_filename=export_filename, md_text=md_text)       \n",
    "w1.observe(handle_change,'value')\n",
    "w_export.on_click(handle_export_partial)\n",
    "\n",
    "%reset_report\n",
    "%add_interaction_code_to_report i = interactive(NumericAnalytics.custom_barplot, df=fixed(df), filename=fixed(filename),\\\n",
    "                                                col1=w1, Export=w_export)\n",
    "hbox = widgets.HBox(i.children)\n",
    "display(hbox)\n",
    "hbox.on_displayed(NumericAnalytics.custom_barplot(df=df, filename=filename, col1=w1.value, Export=w_export))"
   ]
  },
  {
   "cell_type": "markdown",
   "metadata": {},
   "source": [
    "### Explore individual categorical variables (sorted by frequencies)"
   ]
  },
  {
   "cell_type": "code",
   "execution_count": 62,
   "metadata": {
    "collapsed": false
   },
   "outputs": [
    {
     "data": {
      "image/png": "[encoded data removed]",
      "text/plain": [
       "<matplotlib.figure.Figure at 0x12feeda0>"
      ]
     },
     "metadata": {},
     "output_type": "display_data"
    }
   ],
   "source": [
    "w_export = None\n",
    "md_text = '## Visualize Individual Categorical Variables'\n",
    "filename = ReportMagic.var_files='tmp/categoric_variables.csv'\n",
    "export_filename = 'categoric_report2.ipynb'\n",
    "\n",
    "w1_value, w2_value, w3_value = '', '', ''\n",
    "w1, w2, w3, w4 = None, None, None, None\n",
    "silentremove(filename) \n",
    "w1 = widgets.Dropdown(\n",
    "    options = conf_dict['CategoricalColumns'],\n",
    "    value = conf_dict['CategoricalColumns'][0],\n",
    "    description = 'Categorical Variable:',\n",
    ")\n",
    "\n",
    "w_export = widgets.Button(description='Export')\n",
    "handle_export_partial = partial(handle_export, w1=w1, w2=w2, w3=w3, export_filename=export_filename, md_text=md_text)       \n",
    "w1.observe (handle_change,'value')\n",
    "w_export.on_click(handle_export_partial)\n",
    "\n",
    "%reset_report\n",
    "%add_interaction_code_to_report i = interactive(CategoricAnalytics.custom_barplot, df=fixed(df),\\\n",
    "                                                filename=fixed(filename), col1=w1, Export=w_export)\n",
    "\n",
    "hbox = widgets.HBox(i.children)\n",
    "display(hbox)\n",
    "hbox.on_displayed(CategoricAnalytics.custom_barplot(df=df0, filename=filename, col1=w1.value, \\\n",
    "                                         Export=w_export))"
   ]
  },
  {
   "cell_type": "markdown",
   "metadata": {},
   "source": [
    "## <a name=\"multiple variables\"></a>Explore Interactions Between Variables"
   ]
  },
  {
   "cell_type": "markdown",
   "metadata": {},
   "source": [
    "### <a name=\"rank variables\"></a>Rank variables based on linear relationships with reference variable (on sampled data)"
   ]
  },
  {
   "cell_type": "code",
   "execution_count": 67,
   "metadata": {
    "collapsed": false
   },
   "outputs": [
    {
     "data": {
      "image/png": "[encoded data removed]",
      "text/plain": [
       "<matplotlib.figure.Figure at 0x113022e8>"
      ]
     },
     "metadata": {},
     "output_type": "display_data"
    }
   ],
   "source": [
    "md_text = '## Rank variables based on linear relationships with reference variable (on sampled data)'\n",
    "filename = ReportMagic.var_files='tmp/rank_associations.csv'\n",
    "export_filename = 'rank_report2.ipynb'\n",
    "silentremove(filename)\n",
    "cols_list = [conf_dict['Target']] + conf_dict['NumericalColumns'] + conf_dict['CategoricalColumns'] #Make target the default reference variable\n",
    "cols_list = list(OrderedDict.fromkeys(cols_list)) #remove variables that might be duplicates with target\n",
    "w1 = widgets.Dropdown(    \n",
    "    options=cols_list,\n",
    "    value=cols_list[0],\n",
    "    description='Ref Var:'\n",
    ")\n",
    "w2 = ipywidgets.Text(value=\"5\", description='Top Num Vars:')\n",
    "w3 = ipywidgets.Text(value=\"5\", description='Top Cat Vars:')\n",
    "w_export = widgets.Button(description='Export', value='Export')\n",
    "handle_export_partial = partial(handle_export, w1=w1, w2=w2, w3=w3, export_filename=export_filename, md_text=md_text)\n",
    "w1.observe (handle_change,'value')\n",
    "w_export.on_click(handle_export_partial)\n",
    "\n",
    "%reset_report\n",
    "%add_interaction_code_to_report i = interactive(InteractionAnalytics.rank_associations, df=fixed(df), \\\n",
    "                                                conf_dict=fixed(conf_dict), col1=w1, col2=w2, col3=w3, Export=w_export)\n",
    "hbox = widgets.HBox(i.children)\n",
    "display(hbox)\n",
    "hbox.on_displayed(InteractionAnalytics.rank_associations(df=df, conf_dict=conf_dict, col1=w1.value, \\\n",
    "                                                         col2=w2.value, col3=w3.value, Export=w_export))"
   ]
  },
  {
   "cell_type": "markdown",
   "metadata": {},
   "source": [
    "### <a name=\"two categorical\"></a>Explore interactions between categorical variables"
   ]
  },
  {
   "cell_type": "code",
   "execution_count": 58,
   "metadata": {
    "collapsed": false
   },
   "outputs": [
    {
     "data": {
      "image/png": "[encoded data removed]",
      "text/plain": [
       "<matplotlib.figure.Figure at 0x12e53240>"
      ]
     },
     "metadata": {},
     "output_type": "display_data"
    },
    {
     "name": "stdout",
     "output_type": "stream",
     "text": [
      "handle_export called\n"
     ]
    }
   ],
   "source": [
    "md_text = '## Interaction between categorical variables'\n",
    "filename = ReportMagic.var_files='tmp/cat_interactions.csv'\n",
    "export_filename = 'cat_interactions_report2.ipynb'\n",
    "silentremove(filename) \n",
    "w1, w2, w3, w4 = None, None, None, None\n",
    "\n",
    "if conf_dict['Target'] in conf_dict['CategoricalColumns']:\n",
    "    cols_list = [conf_dict['Target']] + conf_dict['CategoricalColumns'] #Make target the default reference variable\n",
    "    cols_list = list(OrderedDict.fromkeys(cols_list)) #remove variables that might be duplicates with target\n",
    "else:\n",
    "    cols_list = conf_dict['CategoricalColumns']\n",
    "    \n",
    "w1 = widgets.Dropdown(\n",
    "    options=cols_list,\n",
    "    value=cols_list[0],\n",
    "    description='Categorical Var 1:'\n",
    ")\n",
    "w2 = widgets.Dropdown(\n",
    "    options=cols_list,\n",
    "    value=cols_list[1],\n",
    "    description='Categorical Var 2:'\n",
    ")\n",
    "w_export = widgets.Button(description='Export', value=\"Export\")\n",
    "handle_export_partial = partial(handle_export, w1=w1, w2=w2, w3=w3, export_filename=export_filename, md_text=md_text)       \n",
    "w1.observe(handle_change,'value')\n",
    "w2.observe(handle_change,'value')\n",
    "w_export.on_click(handle_export_partial)\n",
    "\n",
    "%reset_report\n",
    "%add_interaction_code_to_report i = interactive(InteractionAnalytics.categorical_relations, df=fixed(df), \\\n",
    "                                         filename=fixed(filename), col1=w1, col2=w2, Export=w_export)\n",
    "hbox = widgets.HBox(i.children)\n",
    "display(hbox)\n",
    "hbox.on_displayed(InteractionAnalytics.categorical_relations(df=df0, filename=filename, col1=w1.value, \\\n",
    "                                                             col2=w2.value, Export=w_export))"
   ]
  },
  {
   "cell_type": "markdown",
   "metadata": {},
   "source": [
    "### <a name=\"two numerical\"></a>Explore interactions between numerical variables (on sampled data)"
   ]
  },
  {
   "cell_type": "code",
   "execution_count": 59,
   "metadata": {
    "collapsed": false
   },
   "outputs": [
    {
     "data": {
      "image/png": "[encoded data removed]",
      "text/plain": [
       "<matplotlib.figure.Figure at 0x128bc780>"
      ]
     },
     "metadata": {},
     "output_type": "display_data"
    }
   ],
   "source": [
    "md_text = '## Interaction between numerical variables (on sampled data)'\n",
    "filename = ReportMagic.var_files='tmp/numerical_interactions.csv'\n",
    "export_filename = 'numerical_interactions_report2.ipynb'\n",
    "silentremove(filename) \n",
    "w1, w2, w3, w4 = None, None, None, None\n",
    "\n",
    "if conf_dict['Target'] in conf_dict['NumericalColumns']:\n",
    "    cols_list = [conf_dict['Target']] + conf_dict['NumericalColumns'] #Make target the default reference variable\n",
    "    cols_list = list(OrderedDict.fromkeys(cols_list)) #remove variables that might be duplicates with target\n",
    "else:\n",
    "    cols_list = conf_dict['NumericalColumns']\n",
    "w1 = widgets.Dropdown(\n",
    "    options=cols_list,\n",
    "    value=cols_list[0],\n",
    "    description='Numerical Var 1:'\n",
    ")\n",
    "w2 = widgets.Dropdown(\n",
    "    options=cols_list,\n",
    "    value=cols_list[1],\n",
    "    description='Numerical Var 2:'\n",
    ")\n",
    "w_export = widgets.Button(description='Export', value=\"Export\")\n",
    "handle_export_partial = partial(handle_export, w1=w1, w2=w2, w3=w3, export_filename=export_filename, md_text=md_text)       \n",
    "w1.observe(handle_change,'value')\n",
    "w2.observe(handle_change,'value')\n",
    "w_export.on_click(handle_export_partial)\n",
    "\n",
    "%reset_report\n",
    "%add_interaction_code_to_report i = interactive(InteractionAnalytics.numerical_relations, df=fixed(df), \\\n",
    "                                         col1=w1, col2=w2, Export=w_export)\n",
    "hbox = widgets.HBox(i.children)\n",
    "display(hbox)\n",
    "hbox.on_displayed(InteractionAnalytics.numerical_relations(df, col1=w1.value, col2=w2.value, Export=w_export))"
   ]
  },
  {
   "cell_type": "markdown",
   "metadata": {},
   "source": [
    "### Explore correlation matrix between numerical variables"
   ]
  },
  {
   "cell_type": "code",
   "execution_count": 60,
   "metadata": {
    "collapsed": false,
    "scrolled": false
   },
   "outputs": [
    {
     "data": {
      "image/png": "[encoded data removed]",
      "text/plain": [
       "<matplotlib.figure.Figure at 0x10b3ad68>"
      ]
     },
     "metadata": {},
     "output_type": "display_data"
    }
   ],
   "source": [
    "md_text = '## Explore correlation matrix between numerical variables'\n",
    "filename = ReportMagic.var_files='tmp/numerical_corr.csv'\n",
    "export_filename = 'numerical_correlations_report2.ipynb'\n",
    "silentremove(filename) \n",
    "w1, w2, w3, w4 = None, None, None, None\n",
    "w1 = widgets.Dropdown(\n",
    "    options=['pearson','kendall','spearman'],\n",
    "    value='pearson',\n",
    "    description='Correlation Method:'\n",
    ")\n",
    "w_export = widgets.Button(description='Export', value='Export')\n",
    "handle_export_partial = partial(handle_export, w1=w1, w2=w2, w3=w3, export_filename=export_filename, md_text=md_text)       \n",
    "w1.observe(handle_change,'value')\n",
    "w_export.on_click(handle_export_partial)\n",
    "\n",
    "%reset_report\n",
    "%add_interaction_code_to_report i = interactive(InteractionAnalytics.numerical_correlation,df=fixed(df), conf_dict=fixed(conf_dict),\\\n",
    "                                         col1=w1, Export=w_export)\n",
    "\n",
    "hbox = widgets.HBox(i.children)\n",
    "display(hbox)\n",
    "hbox.on_displayed(InteractionAnalytics.numerical_correlation(df0, conf_dict=conf_dict, col1=w1.value, Export=w_export))"
   ]
  },
  {
   "cell_type": "markdown",
   "metadata": {},
   "source": [
    "### <a name=\"numerical and categorical\"></a>Explore interactions between numerical and categorical variables"
   ]
  },
  {
   "cell_type": "code",
   "execution_count": 61,
   "metadata": {
    "collapsed": false
   },
   "outputs": [
    {
     "data": {
      "image/png": "[encoded data removed]",
      "text/plain": [
       "<matplotlib.figure.Figure at 0x12cdf908>"
      ]
     },
     "metadata": {},
     "output_type": "display_data"
    }
   ],
   "source": [
    "md_text = '## Explore interactions between numerical and categorical variables'\n",
    "filename = ReportMagic.var_files = 'tmp/nc_int.csv'\n",
    "export_filename = 'nc_report2.ipynb'\n",
    "silentremove(filename) \n",
    "w1, w2, w3, w4 = None, None, None, None\n",
    "\n",
    "if conf_dict['Target'] in conf_dict['NumericalColumns']:\n",
    "    cols_list = [conf_dict['Target']] + conf_dict['NumericalColumns'] #Make target the default reference variable\n",
    "    cols_list = list(OrderedDict.fromkeys(cols_list)) #remove variables that might be duplicates with target\n",
    "else:\n",
    "    cols_list = conf_dict['NumericalColumns']\n",
    "    \n",
    "w1 = widgets.Dropdown(\n",
    "    options=cols_list,\n",
    "    value=cols_list[0],\n",
    "    description='Numerical Variable:'\n",
    ")\n",
    "\n",
    "if conf_dict['Target'] in conf_dict['CategoricalColumns']:\n",
    "    cols_list = [conf_dict['Target']] + conf_dict['CategoricalColumns'] #Make target the default reference variable\n",
    "    cols_list = list(OrderedDict.fromkeys(cols_list)) #remove variables that might be duplicates with target\n",
    "else:\n",
    "    cols_list = conf_dict['CategoricalColumns']\n",
    "    \n",
    "w2 = widgets.Dropdown(\n",
    "    options=cols_list,\n",
    "    value=cols_list[0],\n",
    "    description='Categorical Variable:'\n",
    ")\n",
    "w_export = widgets.Button(description='Export', value=False, options=[True, False])\n",
    "handle_export_partial = partial(handle_export, w1=w1, w2=w2, w3=w3, export_filename=export_filename, md_text=md_text)      \n",
    "w1.observe(handle_change,'value')\n",
    "w_export.on_click(handle_export_partial)\n",
    "\n",
    "%reset_report\n",
    "%add_interaction_code_to_report i = interactive(InteractionAnalytics.nc_relation, df=fixed(df), \\\n",
    "                                                conf_dict=fixed(conf_dict), col1=w1, col2=w2, \\\n",
    "                                                col3=fixed(w3), Export=w_export)\n",
    "\n",
    "hbox = widgets.HBox(i.children)\n",
    "display( hbox )\n",
    "hbox.on_displayed(InteractionAnalytics.nc_relation(df0, conf_dict, col1=w1.value, col2=w2.value, Export=w_export))"
   ]
  },
  {
   "cell_type": "markdown",
   "metadata": {},
   "source": [
    "### <a name=\"two numerical and categorical\"></a>Explore interactions between two numerical variables and a categorical variable (on sampled data)"
   ]
  },
  {
   "cell_type": "code",
   "execution_count": 63,
   "metadata": {
    "collapsed": false
   },
   "outputs": [
    {
     "data": {
      "image/png": "[encoded data removed]",
      "text/plain": [
       "<matplotlib.figure.Figure at 0xcc110f0>"
      ]
     },
     "metadata": {},
     "output_type": "display_data"
    },
    {
     "name": "stdout",
     "output_type": "stream",
     "text": [
      "handle_export called\n"
     ]
    }
   ],
   "source": [
    "md_text = '## Explore interactions between two numerical variables and a categorical variable (on sampled data)'\n",
    "filename = ReportMagic.var_files='tmp/nnc_int.csv'\n",
    "export_filename = 'nnc_report2.ipynb'\n",
    "silentremove(filename) \n",
    "w1, w2, w3, w4 = None, None, None, None\n",
    "\n",
    "if conf_dict['Target'] in conf_dict['NumericalColumns']:\n",
    "    cols_list = [conf_dict['Target']] + conf_dict['NumericalColumns'] #Make target the default reference variable\n",
    "    cols_list = list(OrderedDict.fromkeys(cols_list)) #remove variables that might be duplicates with target\n",
    "else:\n",
    "    cols_list = conf_dict['NumericalColumns']\n",
    "    \n",
    "w1 = widgets.Dropdown(\n",
    "    options = cols_list,\n",
    "    value = cols_list[0],\n",
    "    description = 'Numerical Var 1:'\n",
    ")\n",
    "w2 = widgets.Dropdown(\n",
    "    options = cols_list,\n",
    "    value = cols_list[1],\n",
    "    description = 'Numerical Var 2:'\n",
    ")\n",
    "\n",
    "if conf_dict['Target'] in conf_dict['CategoricalColumns']:\n",
    "    cols_list = [conf_dict['Target']] + conf_dict['CategoricalColumns'] #Make target the default reference variable\n",
    "    cols_list = list(OrderedDict.fromkeys(cols_list)) #remove variables that might be duplicates with target\n",
    "else:\n",
    "    cols_list = conf_dict['CategoricalColumns']\n",
    "    \n",
    "w3 = widgets.Dropdown(\n",
    "    options = cols_list,\n",
    "    value = cols_list[0],\n",
    "    description = 'Legend Cat Var:'\n",
    ")\n",
    "w_export = widgets.Button(description='Export', value=False, options=[True, False])\n",
    "handle_export_partial = partial(handle_export, w1=w1, w2=w2, w3=w3, export_filename=export_filename, md_text=md_text)       \n",
    "w1.observe(handle_change,'value')\n",
    "w_export.on_click(handle_export_partial)\n",
    "\n",
    "%reset_report\n",
    "%add_interaction_code_to_report i = interactive(InteractionAnalytics.nnc_relation, df=fixed(df),\\\n",
    "                                                conf_dict=fixed(conf_dict), col1=w1, col2=w2, col3=w3, Export=w_export)\n",
    "hbox = widgets.HBox(i.children)\n",
    "display(hbox)\n",
    "hbox.on_displayed(InteractionAnalytics.nnc_relation(df, conf_dict, col1=w1.value,\\\n",
    "                                                    col2=w2.value, col3=w3.value, Export=w_export))"
   ]
  },
  {
   "cell_type": "markdown",
   "metadata": {},
   "source": [
    "## <a name=\"report\"></a>Generate the Data Report"
   ]
  },
  {
   "cell_type": "code",
   "execution_count": 64,
   "metadata": {
    "collapsed": false
   },
   "outputs": [
    {
     "name": "stdout",
     "output_type": "stream",
     "text": [
      "Processing .\\tmp\\target_report2.ipynb\n",
      "Processing .\\tmp\\numeric_report2.ipynb\n",
      "Warning: Unable to find the file .\\tmp\\//numeric_report2.ipynb , continue...\n",
      "Processing .\\tmp\\categoric_report2.ipynb\n",
      "Warning: Unable to find the file .\\tmp\\//categoric_report2.ipynb , continue...\n",
      "Processing .\\tmp\\rank_report2.ipynb\n",
      "Processing .\\tmp\\cat_interactions_report2.ipynb\n",
      "Processing .\\tmp\\numerical_interactions_report2.ipynb\n",
      "Warning: Unable to find the file .\\tmp\\//numerical_interactions_report2.ipynb , continue...\n",
      "Processing .\\tmp\\numerical_correlations_report2.ipynb\n",
      "Warning: Unable to find the file .\\tmp\\//numerical_correlations_report2.ipynb , continue...\n",
      "Processing .\\tmp\\nc_report2.ipynb\n",
      "Warning: Unable to find the file .\\tmp\\//nc_report2.ipynb , continue...\n",
      "Processing .\\tmp\\nnc_report2.ipynb\n",
      "Processing .\\tmp\\numerical_pca_report2.ipynb\n",
      "Warning: Unable to find the file .\\tmp\\//numerical_pca_report2.ipynb , continue...\n",
      "Processing .\\tmp\\pca3d_report2.ipynb\n",
      "Warning: Unable to find the file .\\tmp\\//pca3d_report2.ipynb , continue...\n"
     ]
    }
   ],
   "source": [
    "filenames = ['target_report2.ipynb', 'numeric_report2.ipynb', 'categoric_report2.ipynb', 'rank_report2.ipynb',\n",
    "           'cat_interactions_report2.ipynb', 'numerical_interactions_report2.ipynb',\n",
    "             'numerical_correlations_report2.ipynb', 'nc_report2.ipynb',\n",
    "             'nnc_report2.ipynb', 'numerical_pca_report2.ipynb', 'pca3d_report2.ipynb'\n",
    "           ]\n",
    "\n",
    "def merge_notebooks():\n",
    "    merged = None\n",
    "    for fname in filenames:\n",
    "        try:\n",
    "            print 'Processing {}'.format(export_dir+fname)\n",
    "            with io.open(export_dir+fname, 'r', encoding='utf-8') as f:\n",
    "                nb = nbf.read(f, as_version=4)\n",
    "            if merged is None:\n",
    "                merged = nb\n",
    "            else:\n",
    "                merged.cells.extend(nb.cells[2:])\n",
    "        except:\n",
    "            print 'Warning: Unable to find the file', export_dir+'//'+fname, ', continue...'\n",
    "    if not hasattr(merged.metadata, 'name'):\n",
    "        merged.metadata.name = ''\n",
    "    merged.metadata.name += \"_merged\"\n",
    "    with open(merged_report, 'w') as f:\n",
    "        nbf.write(merged, f)\n",
    "\n",
    "def gen_merged_report(b):\n",
    "    merge_notebooks()\n",
    "    \n",
    "button=widgets.Button(description='Generate Final Report')\n",
    "button.on_click(gen_merged_report)\n",
    "display(button)"
   ]
  },
  {
   "cell_type": "markdown",
   "metadata": {},
   "source": [
    "## <a name=\"show hide codes\"></a>Show/Hide the Source Codes"
   ]
  },
  {
   "cell_type": "code",
   "execution_count": 65,
   "metadata": {
    "collapsed": false
   },
   "outputs": [
    {
     "data": {
      "text/html": [
       "<style>\n",
       "    .widget-label { min-width: 20ex !important; }\n",
       "    .widget-text { min-width: 60ex !important; }\n",
       "</style>"
      ],
      "text/plain": [
       "<IPython.core.display.HTML object>"
      ]
     },
     "metadata": {},
     "output_type": "display_data"
    },
    {
     "data": {
      "text/html": [
       "<script>\n",
       "code_show=true; \n",
       "function code_toggle() {\n",
       " if (code_show){\n",
       " $('div.input').hide();\n",
       "\n",
       " } else {\n",
       " $('div.input').show();\n",
       "\n",
       " }\n",
       " code_show = !code_show\n",
       "} \n",
       "//$( document ).ready(code_toggle);//commenting code disabling by default\n",
       "</script>\n",
       "<form action = \"javascript:code_toggle()\"><input type=\"submit\" value=\"Toggle Raw Code\"></form>"
      ],
      "text/plain": [
       "<IPython.core.display.HTML object>"
      ]
     },
     "execution_count": 65,
     "metadata": {},
     "output_type": "execute_result"
    }
   ],
   "source": [
    "# Provide the path to the yaml file relative to the working directory\n",
    "display(HTML('''<style>\n",
    "    .widget-label { min-width: 20ex !important; }\n",
    "    .widget-text { min-width: 60ex !important; }\n",
    "</style>'''))\n",
    "\n",
    "#Toggle Code\n",
    "HTML('''<script>\n",
    "code_show=true; \n",
    "function code_toggle() {\n",
    " if (code_show){\n",
    " $('div.input').hide();\n",
    "\n",
    " } else {\n",
    " $('div.input').show();\n",
    "\n",
    " }\n",
    " code_show = !code_show\n",
    "} \n",
    "//$( document ).ready(code_toggle);//commenting code disabling by default\n",
    "</script>\n",
    "<form action = \"javascript:code_toggle()\"><input type=\"submit\" value=\"Toggle Raw Code\"></form>''')"
   ]
  },
  {
   "cell_type": "code",
   "execution_count": null,
   "metadata": {
    "collapsed": true
   },
   "outputs": [],
   "source": []
  }
 ],
 "metadata": {
  "anaconda-cloud": {},
  "kernelspec": {
   "display_name": "Python [Root]",
   "language": "python",
   "name": "Python [Root]"
  },
  "language_info": {
   "codemirror_mode": {
    "name": "ipython",
    "version": 2
   },
   "file_extension": ".py",
   "mimetype": "text/x-python",
   "name": "python",
   "nbconvert_exporter": "python",
   "pygments_lexer": "ipython2",
   "version": "2.7.12"
  }
 },
 "nbformat": 4,
 "nbformat_minor": 0
}
